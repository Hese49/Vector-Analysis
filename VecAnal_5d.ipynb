{
 "cells": [
  {
   "cell_type": "markdown",
   "id": "74356aee",
   "metadata": {},
   "source": [
    "## 5d. Line integrals \n"
   ]
  },
  {
   "cell_type": "markdown",
   "id": "6b79c857",
   "metadata": {},
   "source": [
    "### A. Scalar field ###\n",
    "\n",
    "Given a curve *C*:  $\\vec{r}(t) = \\left< g(t), h(t), k(t) \\right>$\n",
    " the **line integral of a sacalar field $f(x,y,z) $\n",
    " along the curve** is $$\\int_C f(x,y,z) ds = \\int_a^b f(g(t), h(t), k(t))|d\\vec{r}/dt|dt $$.\n",
    "\n"
   ]
  },
  {
   "cell_type": "code",
   "execution_count": 1,
   "id": "279996f2",
   "metadata": {},
   "outputs": [],
   "source": [
    "import numpy as np\n",
    "import sympy as sp\n",
    "from sympy.vector import *\n",
    "from sympy.vector import CoordSys3D\n",
    "C = CoordSys3D('C')\n",
    "import matplotlib.pyplot as plt\n",
    "from scipy.integrate import quad\n",
    "from scipy.integrate import quad_vec\n",
    "x, y, z = sp.symbols('x y z')\n",
    "x, y, z, c1, c2, c3, t = sp.symbols('x y z c1 c2, c3 t ')\n"
   ]
  },
  {
   "cell_type": "code",
   "execution_count": 2,
   "id": "2fd11d0d",
   "metadata": {},
   "outputs": [
    {
     "data": {
      "text/latex": [
       "$\\displaystyle \\left[\\begin{matrix}x{\\left(t \\right)}\\\\y{\\left(t \\right)}\\\\z{\\left(t \\right)}\\end{matrix}\\right]$"
      ],
      "text/plain": [
       "Matrix([\n",
       "[x(t)],\n",
       "[y(t)],\n",
       "[z(t)]])"
      ]
     },
     "execution_count": 2,
     "metadata": {},
     "output_type": "execute_result"
    }
   ],
   "source": [
    "# THE GENERAL FRAMEWORK\n",
    "t = sp.symbols('t', real=True)\n",
    "x, y, z, f = sp.symbols('x y z f', cls=sp.Function, real=True)\n",
    "x = x(t)\n",
    "y = y(t)\n",
    "z = z(t)\n",
    "r = sp.Matrix([x, y, z])\n",
    "f = f(x,y,z)\n",
    "r"
   ]
  },
  {
   "cell_type": "code",
   "execution_count": 3,
   "id": "6431df13",
   "metadata": {},
   "outputs": [
    {
     "data": {
      "text/latex": [
       "$\\displaystyle \\sqrt{\\left|{\\frac{d}{d t} x{\\left(t \\right)}}\\right|^{2} + \\left|{\\frac{d}{d t} y{\\left(t \\right)}}\\right|^{2} + \\left|{\\frac{d}{d t} z{\\left(t \\right)}}\\right|^{2}} f{\\left(x{\\left(t \\right)},y{\\left(t \\right)},z{\\left(t \\right)} \\right)}$"
      ],
      "text/plain": [
       "sqrt(Abs(Derivative(x(t), t))**2 + Abs(Derivative(y(t), t))**2 + Abs(Derivative(z(t), t))**2)*f(x(t), y(t), z(t))"
      ]
     },
     "execution_count": 3,
     "metadata": {},
     "output_type": "execute_result"
    }
   ],
   "source": [
    "integrand = f*sp.diff(r,t).norm()     # From the definition above\n",
    "integrand"
   ]
  },
  {
   "cell_type": "markdown",
   "id": "313d4adf",
   "metadata": {},
   "source": [
    "================================================================================================\n",
    "\n",
    "**Problem 1. a)** Let a curve be $C_1: \\vec{r}(t) = \\left<\\cos(t), \\sin(t), t \\right>$ and a scalar field $f(x,y,z)=2xy+\\sqrt{z}$. Calculate the line integral $\\int_C f(x,y,z)ds$  when  *t* goes from *0* to $2\\pi$. [YouTube: Mr.P Solver]\n",
    "\n"
   ]
  },
  {
   "cell_type": "code",
   "execution_count": 4,
   "id": "d1338f06",
   "metadata": {},
   "outputs": [
    {
     "name": "stdout",
     "output_type": "stream",
     "text": [
      "Line integral of function f along the path C1  ≈ 14.849\n"
     ]
    },
    {
     "data": {
      "text/latex": [
       "$\\displaystyle \\frac{\\sqrt{2}}{2} + \\sqrt{2} \\left(- \\frac{1}{2} + \\frac{4 \\sqrt{2} \\pi^{\\frac{3}{2}}}{3}\\right)$"
      ],
      "text/plain": [
       "sqrt(2)/2 + sqrt(2)*(-1/2 + 4*sqrt(2)*pi**(3/2)/3)"
      ]
     },
     "execution_count": 4,
     "metadata": {},
     "output_type": "execute_result"
    }
   ],
   "source": [
    "# In this case we can integrate symbolically.\n",
    "# The vector field and the path path in parameter form are placed in the integrand\n",
    "integrand1 = integrand.subs([(f, 2*x*y+sp.sqrt(z)),\n",
    "                            (x, sp.cos(t)),\n",
    "                            (y, sp.sin(t)),\n",
    "                            (z, t)]).doit().simplify()\n",
    "I1 = sp.integrate(integrand1, (t, 0, 2*sp.pi))                                 # Integration with SymPy\n",
    "print('Line integral of function f along the path C1  ≈', sp.N(I1, 5))         # 5 digit approximation\n",
    "I1                                                                             # The exact result\n",
    " "
   ]
  },
  {
   "cell_type": "markdown",
   "id": "468d1f2d",
   "metadata": {},
   "source": [
    "------------------------------------------------------------------------------------------------\n",
    "#### Numerical solution\n",
    "**b)** We change the path to $C_2: \\vec{r}(t) = \\left<3\\cos(t), 2\\sin(t), e^{t/4} \\right>$ and let the scalar field be the same as above $f(x,y,z)=2xy+\\sqrt{z}$. \n"
   ]
  },
  {
   "cell_type": "code",
   "execution_count": 5,
   "id": "34ebdfa1",
   "metadata": {},
   "outputs": [
    {
     "data": {
      "text/latex": [
       "$\\displaystyle \\frac{\\left(e^{\\frac{t}{8}} + 3 \\sin{\\left(2 t \\right)}\\right) \\sqrt{e^{\\frac{t}{2}} + 128 \\sin^{2}{\\left(t \\right)} + 16}}{4}$"
      ],
      "text/plain": [
       "(exp(t/8) + 3*sin(2*t))*sqrt(exp(t/2) + 128*sin(t)**2 + 16)/4"
      ]
     },
     "execution_count": 5,
     "metadata": {},
     "output_type": "execute_result"
    }
   ],
   "source": [
    "integrand2 = integrand.subs([(f, 2*x*y+sp.sqrt(z)),\n",
    "                            (x, 3*sp.cos(t)),\n",
    "                            (y, sp.sin(t)),\n",
    "                            (z, sp.exp(t/4))]).doit().simplify()\n",
    "integrand2"
   ]
  },
  {
   "cell_type": "markdown",
   "id": "6927781b",
   "metadata": {},
   "source": [
    "Integration of this function can't be done symbolically. We need to **lambdify the integrand** into a numerical function and then use **SciPy's 'quad'** function for the integration."
   ]
  },
  {
   "cell_type": "code",
   "execution_count": 6,
   "id": "60067d46",
   "metadata": {},
   "outputs": [
    {
     "name": "stdout",
     "output_type": "stream",
     "text": [
      "Line integral of function f along the path C2  ≈ 21.055\n"
     ]
    }
   ],
   "source": [
    "integrand2_num = sp.lambdify([t], integrand2)\n",
    "I2 = quad(integrand2_num, 0, 2*np.pi)[0]                                       # Integration with ScPy's 'quad' function\n",
    "print('Line integral of function f along the path C2  ≈', sp.N(I2, 5))         # 5 digits approximation"
   ]
  },
  {
   "cell_type": "markdown",
   "id": "f5a183ae",
   "metadata": {},
   "source": [
    "\n",
    "\n",
    "===================================================================================================================\n",
    "\n",
    "\n",
    "### B. Vector field ###\n",
    "\n",
    "Given a parameterized curve *C*:\n",
    "$\\vec{r}(t) = \\left< g(t), h(t), k(t) \\right>$\n",
    " the **line integral of a vectorfield**\n",
    " $ \\vec{F}(x,y,z) $\n",
    " along the curve *C* is \n",
    " $$ \\int_C \\vec{F}(x,y,z) \\cdot d\\vec{r} = \\int_C (F_1dx + F_2dy + F_3dz) = \n",
    " \\int_a^b\\vec{F}(g(t), h(t), k(t)) \\cdot \\frac{d\\vec{r}}{dt} dt, $$\n",
    " \n",
    " \n",
    "===================================================================================================================="
   ]
  },
  {
   "cell_type": "code",
   "execution_count": 7,
   "id": "36581dce",
   "metadata": {},
   "outputs": [
    {
     "data": {
      "text/latex": [
       "$\\displaystyle \\left[\\begin{matrix}x{\\left(t \\right)}\\\\y{\\left(t \\right)}\\\\z{\\left(t \\right)}\\end{matrix}\\right]$"
      ],
      "text/plain": [
       "Matrix([\n",
       "[x(t)],\n",
       "[y(t)],\n",
       "[z(t)]])"
      ]
     },
     "execution_count": 7,
     "metadata": {},
     "output_type": "execute_result"
    }
   ],
   "source": [
    "# GENERAL FRAMEWORK\n",
    "t = sp.symbols('t', real=True)\n",
    "x, y, z, F1, F2, F3 = sp.symbols('x y z F_1, F_2, F_3', cls=sp.Function, real=True)\n",
    "x = x(t)\n",
    "y = y(t)\n",
    "z = z(t)\n",
    "F1 = F1(x,y,z)\n",
    "F2 = F2(x,y,z)\n",
    "F3 = F3(x,y,z)\n",
    "r = sp.Matrix([x, y, z])                                           # Position vector for the path C\n",
    "F = sp.Matrix([F1, F2, F3])                                        # Vector field\n",
    "r"
   ]
  },
  {
   "cell_type": "code",
   "execution_count": 8,
   "id": "19e2cef0",
   "metadata": {},
   "outputs": [
    {
     "data": {
      "text/latex": [
       "$\\displaystyle \\left[\\begin{matrix}F_{1}{\\left(x{\\left(t \\right)},y{\\left(t \\right)},z{\\left(t \\right)} \\right)}\\\\F_{2}{\\left(x{\\left(t \\right)},y{\\left(t \\right)},z{\\left(t \\right)} \\right)}\\\\F_{3}{\\left(x{\\left(t \\right)},y{\\left(t \\right)},z{\\left(t \\right)} \\right)}\\end{matrix}\\right]$"
      ],
      "text/plain": [
       "Matrix([\n",
       "[F_1(x(t), y(t), z(t))],\n",
       "[F_2(x(t), y(t), z(t))],\n",
       "[F_3(x(t), y(t), z(t))]])"
      ]
     },
     "execution_count": 8,
     "metadata": {},
     "output_type": "execute_result"
    }
   ],
   "source": [
    "F"
   ]
  },
  {
   "cell_type": "code",
   "execution_count": 9,
   "id": "35e8d4da",
   "metadata": {},
   "outputs": [
    {
     "data": {
      "text/latex": [
       "$\\displaystyle F_{1}{\\left(x{\\left(t \\right)},y{\\left(t \\right)},z{\\left(t \\right)} \\right)} \\frac{d}{d t} x{\\left(t \\right)} + F_{2}{\\left(x{\\left(t \\right)},y{\\left(t \\right)},z{\\left(t \\right)} \\right)} \\frac{d}{d t} y{\\left(t \\right)} + F_{3}{\\left(x{\\left(t \\right)},y{\\left(t \\right)},z{\\left(t \\right)} \\right)} \\frac{d}{d t} z{\\left(t \\right)}$"
      ],
      "text/plain": [
       "F_1(x(t), y(t), z(t))*Derivative(x(t), t) + F_2(x(t), y(t), z(t))*Derivative(y(t), t) + F_3(x(t), y(t), z(t))*Derivative(z(t), t)"
      ]
     },
     "execution_count": 9,
     "metadata": {},
     "output_type": "execute_result"
    }
   ],
   "source": [
    "# The integrand is obtained according to the definition\n",
    "integrand = F.dot(sp.diff(r,t))                                   # Inner product of the vectorfield F with dr/dt\n",
    "integrand                                                         # General form for F(x,y,z) and r(t) "
   ]
  },
  {
   "cell_type": "markdown",
   "id": "87fe0c44",
   "metadata": {},
   "source": [
    "\n",
    "===============================================================================================\n",
    "\n",
    "**Problem 2.  a)**  Suppose we have a vectorfield $\\vec{F} = \\left< \\sqrt{z}, -2x, \\sqrt{y}\\right>$ and curve $C:  \\vec{r}(t) = \\left<t, t^2, t^4 \\right>$ from *t=0* to *t=1*. Calculate the line integral $\\int_C \\vec{F}\\cdot d\\vec{r}$. [Video Mr.P Solver]"
   ]
  },
  {
   "cell_type": "code",
   "execution_count": 10,
   "id": "e4e07ddc",
   "metadata": {},
   "outputs": [
    {
     "data": {
      "text/latex": [
       "$\\displaystyle - \\frac{1}{5}$"
      ],
      "text/plain": [
       "-1/5"
      ]
     },
     "execution_count": 10,
     "metadata": {},
     "output_type": "execute_result"
    }
   ],
   "source": [
    "# Place the vector field <F1,F2,F3> and the path <x,y,z>  to be integrated\n",
    "integrand1 = integrand.subs([(F1, sp.sqrt(z)),\n",
    "                             (F2, -2*x),\n",
    "                             (F3, sp.sqrt(y)),\n",
    "                             (x, t),\n",
    "                             (y, t**2),\n",
    "                             (z, t**4)]).doit().simplify()\n",
    "sp.integrate(integrand1, (t, 0, 1))"
   ]
  },
  {
   "cell_type": "markdown",
   "id": "60f9e4f0",
   "metadata": {},
   "source": [
    "---------------------------------------------------------------------------------------------\n",
    "\n",
    "**b)**  Suppose the vector field $\\vec{F} = \\left< \\sqrt{|z|}, -2x, \\sqrt{|y|}\\right>$ and\n",
    "the curve $C: \\vec{r}(t) = \\left<3\\cos^2(t), t^2, 2\\sin(t) \\right>$ from *t=0* to $t=2\\pi$.\n",
    "Calculate the line integral $\\int_C \\vec{F}\\cdot d\\vec{r}$.\n",
    "\n",
    "**Solution.** This can't be done by hand, and one needs to evaluate **numerically using SciPy**:"
   ]
  },
  {
   "cell_type": "code",
   "execution_count": 11,
   "id": "976afbca",
   "metadata": {},
   "outputs": [
    {
     "data": {
      "text/latex": [
       "$\\displaystyle 2 \\left(- 6 t \\cos{\\left(t \\right)} - 3 \\sqrt{2} \\sin{\\left(t \\right)} \\sqrt{\\left|{\\sin{\\left(t \\right)}}\\right|} + \\left|{t}\\right|\\right) \\cos{\\left(t \\right)}$"
      ],
      "text/plain": [
       "2*(-6*t*cos(t) - 3*sqrt(2)*sin(t)*sqrt(Abs(sin(t))) + Abs(t))*cos(t)"
      ]
     },
     "execution_count": 11,
     "metadata": {},
     "output_type": "execute_result"
    }
   ],
   "source": [
    "# Place the vector field <F1,F2,F3> and the path <x,y,z> in the parametric form to be integrated\n",
    "integrand2 = integrand.subs([(F1, sp.sqrt(sp.Abs(z))),\n",
    "                             (F2, -2*x),\n",
    "                             (F3, sp.sqrt(sp.Abs(y))),\n",
    "                             (x, 3*sp.cos(t)**2),\n",
    "                             (y, t**2),\n",
    "                             (z, 2*sp.sin(t))]).doit().simplify()\n",
    "integrand2\n"
   ]
  },
  {
   "cell_type": "code",
   "execution_count": 12,
   "id": "f1d0a501",
   "metadata": {},
   "outputs": [
    {
     "name": "stdout",
     "output_type": "stream",
     "text": [
      "The line integral of the vectorfield F along the path C  ≈ -118.44\n"
     ]
    }
   ],
   "source": [
    "# Integration numerically using SciPy's 'quad' function\n",
    "integrand2_num = sp.lambdify([t], integrand2)                        # intgrand2 as a numerical function \n",
    "I2n = quad(integrand2_num, 0, 2*np.pi)[0]                            # SciPy integration with 'quad()'\n",
    "print('The line integral of the vectorfield F along the path C  ≈', sp.N(I2n, 5))  # 5 digits approximation"
   ]
  },
  {
   "cell_type": "markdown",
   "id": "43b6e823",
   "metadata": {},
   "source": [
    "===============================================================================================\n",
    "\n",
    "#### The work\n",
    " $W = \\int_C \\vec{F}\\cdot d\\vec{r}$"
   ]
  },
  {
   "cell_type": "markdown",
   "id": "07d4b36a",
   "metadata": {},
   "source": [
    "===============================================================================================\n",
    "\n",
    "**Problem 3.**  Find the total work done in moving the particle in a force field $\\vec{F} = \\left< 3xy, -5z, 10x \\right>$ along the curve $C:  \\vec{r}(t) = \\left<t^2+1,  2t^2,  t^3 \\right>$ from *t=1* to *t=2*. [Sch88/7]\n",
    "\n"
   ]
  },
  {
   "cell_type": "code",
   "execution_count": 13,
   "id": "953e2bc5",
   "metadata": {},
   "outputs": [
    {
     "data": {
      "text/latex": [
       "$\\displaystyle F_{1}{\\left(x{\\left(t \\right)},y{\\left(t \\right)},z{\\left(t \\right)} \\right)} \\frac{d}{d t} x{\\left(t \\right)} + F_{2}{\\left(x{\\left(t \\right)},y{\\left(t \\right)},z{\\left(t \\right)} \\right)} \\frac{d}{d t} y{\\left(t \\right)} + F_{3}{\\left(x{\\left(t \\right)},y{\\left(t \\right)},z{\\left(t \\right)} \\right)} \\frac{d}{d t} z{\\left(t \\right)}$"
      ],
      "text/plain": [
       "F_1(x(t), y(t), z(t))*Derivative(x(t), t) + F_2(x(t), y(t), z(t))*Derivative(y(t), t) + F_3(x(t), y(t), z(t))*Derivative(z(t), t)"
      ]
     },
     "execution_count": 13,
     "metadata": {},
     "output_type": "execute_result"
    }
   ],
   "source": [
    "# The general framework\n",
    "t = sp.symbols('t', real=True)\n",
    "x, y, z, F1, F2, F3 = sp.symbols('x y z F_1, F_2, F_3', cls=sp.Function, real=True)\n",
    "x = x(t)\n",
    "y = y(t)\n",
    "z = z(t)\n",
    "F1 = F1(x,y,z)\n",
    "F2 = F2(x,y,z)\n",
    "F3 = F3(x,y,z)\n",
    "r = sp.Matrix([x, y, z])\n",
    "F = sp.Matrix([F1, F2, F3])\n",
    "\n",
    "integrand = F.dot(sp.diff(r,t))                           # The inner product of the field F with dr/dt, general form\n",
    "integrand"
   ]
  },
  {
   "cell_type": "code",
   "execution_count": 14,
   "id": "efeeaf02",
   "metadata": {},
   "outputs": [
    {
     "name": "stdout",
     "output_type": "stream",
     "text": [
      "The work done is 303\n"
     ]
    }
   ],
   "source": [
    "# The task-specific part\n",
    "# Place the vector field <F1,F2,F3> and the path <x,y,z> in the parametric form to be integrated\n",
    "integrand1 = integrand.subs([(F1,3*x*y),   \n",
    "                             (F2, -5*z),\n",
    "                             (F3, 10*x),\n",
    "                             (x, t**2 + 1),\n",
    "                             (y, 2*t**2),\n",
    "                             (z, t**3)]).doit().simplify()\n",
    "\n",
    "W = sp.integrate(integrand1, (t, 1, 2))                    # SymPy integration\n",
    "print('The work done is', W)"
   ]
  },
  {
   "cell_type": "markdown",
   "id": "a5c243b3",
   "metadata": {},
   "source": [
    "===============================================================================================\n",
    "\n",
    "**Problem 4.**  Find the  work done in moving the particle arround a circle C in the *xy* plane, if the circle has center at the origin and radius 3 and if the force field is given by\n",
    "$\\vec{F} = \\left< 2x-y+z,   x+y-z^2,   3x-2y+4z \\right>$  [Sch89/9]\n",
    "\n",
    "**Solution.** The  work done is  the line integral $W = \\int_C \\vec{F}\\cdot d\\vec{r}$ on path \n",
    "$x=3cos(t)$ , $y = 3sin(t)$ , *z = 0*  and *t* from *0* to $2\\pi$."
   ]
  },
  {
   "cell_type": "code",
   "execution_count": 15,
   "id": "ef9d4e02",
   "metadata": {},
   "outputs": [
    {
     "data": {
      "text/latex": [
       "$\\displaystyle F_{1}{\\left(x{\\left(t \\right)},y{\\left(t \\right)},z{\\left(t \\right)} \\right)} \\frac{d}{d t} x{\\left(t \\right)} + F_{2}{\\left(x{\\left(t \\right)},y{\\left(t \\right)},z{\\left(t \\right)} \\right)} \\frac{d}{d t} y{\\left(t \\right)} + F_{3}{\\left(x{\\left(t \\right)},y{\\left(t \\right)},z{\\left(t \\right)} \\right)} \\frac{d}{d t} z{\\left(t \\right)}$"
      ],
      "text/plain": [
       "F_1(x(t), y(t), z(t))*Derivative(x(t), t) + F_2(x(t), y(t), z(t))*Derivative(y(t), t) + F_3(x(t), y(t), z(t))*Derivative(z(t), t)"
      ]
     },
     "execution_count": 15,
     "metadata": {},
     "output_type": "execute_result"
    }
   ],
   "source": [
    "# The general framework\n",
    "t = sp.symbols('t', real=True)\n",
    "x, y, z, F1, F2, F3 = sp.symbols('x y z F_1, F_2, F_3', cls=sp.Function, real=True)\n",
    "x = x(t)\n",
    "y = y(t)\n",
    "z = z(t)\n",
    "F1 = F1(x,y,z)\n",
    "F2 = F2(x,y,z)\n",
    "F3 = F3(x,y,z)\n",
    "r = sp.Matrix([x, y, z])\n",
    "F = sp.Matrix([F1, F2, F3])\n",
    "\n",
    "integrand = F.dot(sp.diff(r,t))                               # The inner product of the field F with dr/dt, general form\n",
    "integrand"
   ]
  },
  {
   "cell_type": "code",
   "execution_count": 16,
   "id": "6e98f8e0",
   "metadata": {},
   "outputs": [
    {
     "name": "stdout",
     "output_type": "stream",
     "text": [
      "The work done is 18*pi ≈ 56.55\n"
     ]
    }
   ],
   "source": [
    "# The task-specific part\n",
    "# Place the vector field <F1,F2,F3> and the path <x,y,z> in the parametric form to be integrated\n",
    "integrand1 = integrand.subs([(F1, 2*x-y+z),   \n",
    "                             (F2, x+y-z**2),\n",
    "                             (F3, 3*x-2*y+4*z),\n",
    "                             (x, 3*sp.cos(t)),\n",
    "                             (y, 3*sp.sin(t)),\n",
    "                             (z, 0)]).doit().simplify()\n",
    "\n",
    "W = sp.integrate(integrand1, (t, 0, 2*sp.pi))                  # SymPy integration\n",
    "print('The work done is', W, '≈', sp.N(W, 4))"
   ]
  },
  {
   "cell_type": "code",
   "execution_count": null,
   "id": "0527c510",
   "metadata": {},
   "outputs": [],
   "source": []
  }
 ],
 "metadata": {
  "kernelspec": {
   "display_name": "Python 3 (ipykernel)",
   "language": "python",
   "name": "python3"
  },
  "language_info": {
   "codemirror_mode": {
    "name": "ipython",
    "version": 3
   },
   "file_extension": ".py",
   "mimetype": "text/x-python",
   "name": "python",
   "nbconvert_exporter": "python",
   "pygments_lexer": "ipython3",
   "version": "3.11.5"
  }
 },
 "nbformat": 4,
 "nbformat_minor": 5
}
