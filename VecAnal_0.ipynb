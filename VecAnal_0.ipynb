{
 "cells": [
  {
   "cell_type": "markdown",
   "metadata": {},
   "source": [
    "### SymPy Vector Calculus   -  Solved problems ### \n"
   ]
  },
  {
   "cell_type": "markdown",
   "metadata": {},
   "source": [
    "The purpose of this set of examples is to learn both **Vector Analysis and SymPy**. As starting skills you need basic knowledge of Jupyter, Python, SymPy and Matplotlib. \n",
    "\n",
    "An excellent resources of theory, examples and practice problems:\n",
    "  - Paul Dawkins:  https://tutorial.math.lamar.edu/  \n",
    "  - Youtube  Mr.P Solver: '2nd Year Calculus, But in PYTHON'\n",
    "  - Youtube  Dr. Trefor Bazett:  Playlist   Vector Calculus\n",
    "  - Youtube  Dr. Bevin Maultsby: Playlist   Multivariable Calculus\n",
    "\n",
    "The problems come from the resources above and from the book 'Theory and problems of Vector Analysis',  Schaum's: 1959.  "
   ]
  },
  {
   "cell_type": "markdown",
   "metadata": {},
   "source": [
    "**1 Basics**\n",
    "\n",
    "VecAnal_1\n",
    " 1. Angle between two vectors\n",
    " 2. Perpendicularity\n",
    " 3. Projection of a vector $\\vec{A}$ on the vector $\\vec{B}$\n",
    " 4. Line through two given points\n",
    " 5. Area of the  triangle\n",
    " 6. Volume of the parallelepiped\n",
    " 7. Equation of the plane\n",
    " 8. Work done in moving an object along a vector by a force\n",
    " 9. Rotating body, angular and linear velocity\n",
    "10. Moment of a force"
   ]
  },
  {
   "cell_type": "markdown",
   "metadata": {},
   "source": [
    "**2. Parametric curve**\n",
    "\n",
    "VecAnal_2a.  Unit tangent of the curve \n",
    "\n",
    "VecAnal_2b.  Tangent, principal normal, binormal, curvature and torsion. \n",
    "\n",
    "VecAnal_2c.  TNB-FUNKTIO: Tangent, Normal, Binormal, Curvature, Radius of curvature, Torsion\n",
    "\n",
    "VecAnal_2d.  MECHANICS: Tangential and normal components of acceleration\n",
    "\n",
    "VecAnal_2e.  Parametric curve (trigonometric)\n",
    "\n",
    "VecAnal_2f.  Unit tangent vector, unit normal vector, curvature, (matrix representation)\n",
    "\n",
    "VecAnal_2g.  The angle between the velocity and acceleration"
   ]
  },
  {
   "cell_type": "markdown",
   "metadata": {},
   "source": [
    "**3. Tangent plane**\n",
    "\n",
    "VecAnal_3a. Equation of a plane  \n",
    "\n",
    "VecAnal_3b. Equation of a plane perpendicular to a given vector\n",
    "\n",
    "VecAnal_3c. Parametric surface, partial derivatives, normal to the surface, TP-equation\n",
    "\n",
    "VecAnal_3d. Parametric surface, partial derivatives, normal to the surface, TP-equation \n",
    "\n",
    "VecAnal_3e. Implicit form of surface equation, gradient, unit normal, TP-equation\n",
    "\n",
    "VecAnal_3f. Implicit form of surface equation, gradient,  TP-equation\n"
   ]
  },
  {
   "cell_type": "markdown",
   "metadata": {},
   "source": [
    "**4. Del operator**\n",
    "\n",
    "VecAnal_4a  Gradient\n",
    "1. Unit normal to the surface\n",
    "2. Directional derivative\n",
    "3. Max directional derivative\n",
    "4. The angle between the surfaces\n",
    "5. The distance from the origin to the plane\n",
    "6. Plotting gradient field with NumPy\n",
    "\n",
    "VecAnal_4b  Divergence\n",
    "1. Calculate divergence\n",
    "2. Solenoidal vectorfield\n",
    "3. Laplace's operator\n",
    "\n",
    "VecAnal_4c  Curl\n",
    "1. Calculate curl\n",
    "2. Irrotational vectorfield\n",
    "3. Scalar potential of a conservative vector field \n",
    "\n"
   ]
  },
  {
   "cell_type": "markdown",
   "metadata": {},
   "source": [
    "**5. Vector integration**\n",
    "\n",
    "VecAnal_5a.  Single integrals\n",
    "\n",
    "VecAnal_5b.  Double integrals\n",
    "\n",
    "VecAnal_5c.  Triple integrals\n",
    "\n",
    "VecAnal_5d.  Line integrals \n",
    "\n",
    "VecAnal_5e.  Surface integrals\n",
    "\n",
    "VecAnal_5f.  Stoke's theorem \n",
    "\n",
    "VecAnal_5g.  Divergence theorem \n",
    "\n"
   ]
  },
  {
   "cell_type": "code",
   "execution_count": null,
   "metadata": {},
   "outputs": [],
   "source": []
  }
 ],
 "metadata": {
  "kernelspec": {
   "display_name": "Python 3 (ipykernel)",
   "language": "python",
   "name": "python3"
  },
  "language_info": {
   "codemirror_mode": {
    "name": "ipython",
    "version": 3
   },
   "file_extension": ".py",
   "mimetype": "text/x-python",
   "name": "python",
   "nbconvert_exporter": "python",
   "pygments_lexer": "ipython3",
   "version": "3.11.5"
  }
 },
 "nbformat": 4,
 "nbformat_minor": 2
}
