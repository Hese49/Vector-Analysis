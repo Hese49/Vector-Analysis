{
 "cells": [
  {
   "cell_type": "markdown",
   "metadata": {},
   "source": [
    "### 1. Vector basics ###\n",
    "\n",
    " 1. Angle between two vectors\n",
    " 2. Perpendicularity\n",
    " 3. Projection of a vector $\\vec{A}$ on the vector $\\vec{B}$\n",
    " 4. Line through two given points\n",
    " 5. Area of the  triangle\n",
    " 6. Volume of the parallelepiped\n",
    " 7. Equation of the plane\n",
    " 8. Work done in moving an object along a vector by a force\n",
    " 9. Rotating body, angular and linear velocity\n",
    "10. Moment of a force\n"
   ]
  },
  {
   "cell_type": "code",
   "execution_count": 1,
   "metadata": {},
   "outputs": [],
   "source": [
    "# INIT\n",
    "import math\n",
    "from sympy import *\n",
    "x, y, z, a, s = symbols('x y z a s')\n",
    "from sympy.vector import CoordSys3D, Del\n",
    "\n",
    "C = CoordSys3D('C')                     \n",
    "r = x*C.i + y*C.j + z*C.k               \n",
    "# *C.i + *C.j + *C.k\n",
    " "
   ]
  },
  {
   "cell_type": "code",
   "execution_count": 2,
   "metadata": {},
   "outputs": [],
   "source": [
    "import numpy as np\n",
    "import sympy as smp\n",
    "from sympy.vector import *\n",
    "import matplotlib.pyplot as plt\n",
    "from scipy.integrate import quad\n",
    "from scipy.integrate import quad_vec\n",
    "x, y, z, u1, u2, u3, v1, v2, v3, t = smp.symbols('x y z u_1 u_2 u_3 v_1 v_2 v_3 t')"
   ]
  },
  {
   "cell_type": "markdown",
   "metadata": {},
   "source": [
    "In SymPy you can express a vector either in a **special coordinate system** or use a **'Matrix' object**. \n",
    "You can perform calculations symbolically or with numbers. You can evaluate the value of a symbolic expression by substituting numerical values for the symbols. Vectors can also  be numerically processed with NumPy's **'array'** object (without SymPy). The solutions to problem 1 present these possibilities."
   ]
  },
  {
   "cell_type": "code",
   "execution_count": 3,
   "metadata": {},
   "outputs": [
    {
     "name": "stdout",
     "output_type": "stream",
     "text": [
      "Matrix([[x], [y], [z]])\n",
      "y\n"
     ]
    },
    {
     "data": {
      "text/latex": [
       "$\\displaystyle \\left[\\begin{matrix}x\\\\y\\\\z\\end{matrix}\\right]$"
      ],
      "text/plain": [
       "Matrix([\n",
       "[x],\n",
       "[y],\n",
       "[z]])"
      ]
     },
     "execution_count": 3,
     "metadata": {},
     "output_type": "execute_result"
    }
   ],
   "source": [
    "# Vector from coordinate form to Sympy matrix form\n",
    "rC = x*C.i + y*C.j + z*C.k \n",
    "\n",
    "rM = rC.to_matrix(C)\n",
    "\n",
    "print(rM)\n",
    "print(rM[1])                       # The second component\n",
    "rM"
   ]
  },
  {
   "cell_type": "code",
   "execution_count": 4,
   "metadata": {},
   "outputs": [
    {
     "name": "stdout",
     "output_type": "stream",
     "text": [
      "x*C.i + y*C.j + z*C.k\n"
     ]
    }
   ],
   "source": [
    "# Vector from matrix form to coordinate form\n",
    "rM = Matrix([x,y,z])\n",
    "\n",
    "def M_to_C(rM):\n",
    "    rC =  rM[0]*C.i + rM[1]*C.j + rM[2]*C.k\n",
    "    return rC\n",
    "\n",
    "rC = M_to_C(rM) \n",
    "print(rC)\n"
   ]
  },
  {
   "cell_type": "code",
   "execution_count": 5,
   "metadata": {},
   "outputs": [
    {
     "name": "stdout",
     "output_type": "stream",
     "text": [
      "{C.i: x, C.j: y, C.k: z}\n",
      "y\n",
      "[x, y, z]\n",
      "\n"
     ]
    },
    {
     "data": {
      "text/latex": [
       "$\\displaystyle \\left[\\begin{matrix}x\\\\y\\\\z\\end{matrix}\\right]$"
      ],
      "text/plain": [
       "Matrix([\n",
       "[x],\n",
       "[y],\n",
       "[z]])"
      ]
     },
     "execution_count": 5,
     "metadata": {},
     "output_type": "execute_result"
    }
   ],
   "source": [
    "# Extracting vector components from coordinate form\n",
    "rC = x*C.i + y*C.j + z*C.k        # Coordinate form, scalar components are x, y and z\n",
    "\n",
    "comps = rC.components             # Components dictionary\n",
    "\n",
    "print(comps)\n",
    "print(comps[C.j])                 # The component of the base vector j in the coordinate system C\n",
    "l = (list(comps.values()))         # List of scalar components (list of dictionary values)\n",
    "print(l)\n",
    "print()\n",
    "\n",
    "# The list of components can be converted into a SymPy Matrix.\n",
    "Matrix(l)"
   ]
  },
  {
   "cell_type": "code",
   "execution_count": 6,
   "metadata": {},
   "outputs": [
    {
     "data": {
      "text/latex": [
       "$\\displaystyle 3$"
      ],
      "text/plain": [
       "3"
      ]
     },
     "execution_count": 6,
     "metadata": {},
     "output_type": "execute_result"
    }
   ],
   "source": [
    "# Magnitude\n",
    "v = 2*C.i - 2*C.j + 1*C.k \n",
    "v.magnitude()"
   ]
  },
  {
   "cell_type": "code",
   "execution_count": 7,
   "metadata": {},
   "outputs": [
    {
     "name": "stdout",
     "output_type": "stream",
     "text": [
      "2/3*C.i + (-2/3)*C.j + 1/3*C.k\n"
     ]
    },
    {
     "data": {
      "text/latex": [
       "$\\displaystyle \\left(\\frac{2}{3}\\right)\\mathbf{\\hat{i}_{C}} + \\left(- \\frac{2}{3}\\right)\\mathbf{\\hat{j}_{C}} + \\left(\\frac{1}{3}\\right)\\mathbf{\\hat{k}_{C}}$"
      ],
      "text/plain": [
       "2/3*C.i + (-2/3)*C.j + 1/3*C.k"
      ]
     },
     "execution_count": 7,
     "metadata": {},
     "output_type": "execute_result"
    }
   ],
   "source": [
    "# Normalize\n",
    "v = 2*C.i - 2*C.j + 1*C.k \n",
    "v = v.normalize()                            # Normalized vector in the direction of v\n",
    "print(v)\n",
    "v"
   ]
  },
  {
   "cell_type": "code",
   "execution_count": 8,
   "metadata": {},
   "outputs": [
    {
     "name": "stdout",
     "output_type": "stream",
     "text": [
      "sqrt(3)/3\n",
      "sqrt(3)/3\n",
      "1/3*C.i + 1/3*C.j + 1/3*C.k\n"
     ]
    },
    {
     "data": {
      "text/latex": [
       "$\\displaystyle \\left(\\frac{1}{3}\\right)\\mathbf{\\hat{i}_{C}} + \\left(\\frac{1}{3}\\right)\\mathbf{\\hat{j}_{C}} + \\left(\\frac{1}{3}\\right)\\mathbf{\\hat{k}_{C}}$"
      ],
      "text/plain": [
       "1/3*C.i + 1/3*C.j + 1/3*C.k"
      ]
     },
     "execution_count": 8,
     "metadata": {},
     "output_type": "execute_result"
    }
   ],
   "source": [
    "# The projection of vector v1 in the direction of vector v2\n",
    "ve1 = 2*C.i - 2*C.j + 1*C.k                   # Vector to be projected\n",
    "ve2 = 1*C.i + 1*C.j + 1*C.k                   # Direction vector\n",
    "\n",
    "ve2 = ve2.normalize()                         # Normalized direction vector\n",
    "print(ve2.dot(ve1))                           # The scalar projection of v1 to v2\n",
    "\n",
    "# Or direct with projection() method\n",
    "print(ve2.projection(ve1, scalar=True))        # The scalar projection of v1 to v2\n",
    "print(ve2.projection(ve1, scalar=False))       # Vector projection     of v1 to v2\n",
    "ve2.projection(ve1, scalar=False)"
   ]
  },
  {
   "cell_type": "markdown",
   "metadata": {},
   "source": [
    "**1. Angle between two vectors**\n",
    "\n",
    "**Problem.** Find the angle between vectors $\\vec{a} = 2i + 2j - k$   and $\\vec{b} = 6i - 3j + 2k$. [Sch19/8]\n",
    "\n",
    "**Solution.**  The angle between two vectors is obtained from the definition of their dot product$$ \\vec{a} \\cdot{} \\vec{b}  =  |\\vec{a} || \\vec{b}|\\cos\\theta $$ of which theta is\n",
    "$$ \\theta = \\arccos (\\frac {\\vec{a} \\cdot{} \\vec{b}}  { |\\vec{a} || \\vec{b}|} ).$$\n"
   ]
  },
  {
   "cell_type": "code",
   "execution_count": 9,
   "metadata": {},
   "outputs": [
    {
     "name": "stdout",
     "output_type": "stream",
     "text": [
      "The angle between vectors\n",
      "ϴ = 79.02 deg\n"
     ]
    }
   ],
   "source": [
    "# 1a)The angle between two vectors using SymPy vectors\n",
    "C = CoordSys3D('C')  \n",
    "\n",
    "# INPUT\n",
    "a = 2*C.i + 2*C.j - C.k             # Obs! C.i  C.j  C.k\n",
    "b = 6*C.i - 3*C.j + 2*C.k\n",
    "\n",
    "# CALCULATE\n",
    "ab = a.dot(b)                       # dot product\n",
    "ab = N(ab)                          # --> float number (the integer is not evaluated automatically)\n",
    "                                    # in SymPy trig. functions)\n",
    "nrm_a = sqrt(a.dot(a))              # |a|\n",
    "nrm_b = sqrt(b.dot(b))\n",
    "\n",
    "ϴ = acos(ab/(nrm_a*nrm_b))          # in radians\n",
    "ϴ = 180*ϴ/math.pi                   # in degrees, numpy pi ()\n",
    "\n",
    "# OUTPUT\n",
    "print('The angle between vectors')\n",
    "print('ϴ =', round(ϴ, 2), 'deg')"
   ]
  },
  {
   "cell_type": "code",
   "execution_count": 10,
   "metadata": {},
   "outputs": [
    {
     "name": "stdout",
     "output_type": "stream",
     "text": [
      "The angle between vectors\n",
      "the = 79.02 deg\n"
     ]
    }
   ],
   "source": [
    "# 1b) The same angle as above can also be performed with SymPy Matrix\n",
    "\n",
    "u = smp.Matrix([2,2,-1]) \n",
    "v = smp.Matrix([6,-3,2])\n",
    "the = acos(N(u.dot(v)/(u.norm()*v.norm()))).doit()          # Matrix form has the norm() method\n",
    "the =  180*the/math.pi                                      # in degrees\n",
    "\n",
    "# OUTPUT\n",
    "print('The angle between vectors')\n",
    "print('the =', round(the, 2), 'deg')"
   ]
  },
  {
   "cell_type": "code",
   "execution_count": 11,
   "metadata": {},
   "outputs": [
    {
     "data": {
      "text/latex": [
       "$\\displaystyle \\operatorname{acos}{\\left(\\frac{u_{1} v_{1} + u_{2} v_{2} + u_{3} v_{3}}{\\sqrt{\\left|{u_{1}}\\right|^{2} + \\left|{u_{2}}\\right|^{2} + \\left|{u_{3}}\\right|^{2}} \\sqrt{\\left|{v_{1}}\\right|^{2} + \\left|{v_{2}}\\right|^{2} + \\left|{v_{3}}\\right|^{2}}} \\right)}$"
      ],
      "text/plain": [
       "acos((u_1*v_1 + u_2*v_2 + u_3*v_3)/(sqrt(Abs(u_1)**2 + Abs(u_2)**2 + Abs(u_3)**2)*sqrt(Abs(v_1)**2 + Abs(v_2)**2 + Abs(v_3)**2)))"
      ]
     },
     "execution_count": 11,
     "metadata": {},
     "output_type": "execute_result"
    }
   ],
   "source": [
    "# 1c) If you need the symbolic expression, you can get it with SYmPy\n",
    "\n",
    "u = smp.Matrix([u1, u2, u3])\n",
    "v = smp.Matrix([v1, v2, v3])\n",
    "thet_expr = acos(u.dot(v)/(u.norm()*v.norm())).doit()\n",
    "thet_expr                "
   ]
  },
  {
   "cell_type": "code",
   "execution_count": 12,
   "metadata": {},
   "outputs": [
    {
     "name": "stdout",
     "output_type": "stream",
     "text": [
      "The angle between vectors\n",
      "thet = 79.02 deg\n"
     ]
    }
   ],
   "source": [
    "# 1d) Evaluation of symbolic expression.\n",
    "# Numerical values can be placed in the above SymPy expression and \n",
    "# the numerical result is calculated.\n",
    "\n",
    "thet = thet_expr.subs([(u1,2),(u2,2),(u3,-1), (v1,6),(v2,-3),(v3,2)]).evalf()\n",
    "thet =  180*thet/math.pi\n",
    "\n",
    "# OUTPUT\n",
    "print('The angle between vectors')\n",
    "print('thet =', round(thet, 2), 'deg')"
   ]
  },
  {
   "cell_type": "code",
   "execution_count": 13,
   "metadata": {},
   "outputs": [
    {
     "name": "stdout",
     "output_type": "stream",
     "text": [
      "The angle between vectors\n",
      "theta = 79.02 deg\n"
     ]
    }
   ],
   "source": [
    "# 1e) The same angle can also be obtained with NumPy arrays (no need for SymPy)\n",
    "\n",
    "# INPUT\n",
    "c = np.array([2, 2,-1])\n",
    "d = np.array([6,-3, 2])\n",
    "\n",
    "# CALCULATE\n",
    "cd = np.dot(c, d)                         # a.dot(b) in SymPy\n",
    "c_norm = np.linalg.norm(c)                # |c|\n",
    "d_norm = np.linalg.norm(d)\n",
    "theta = np.arccos(cd/(c_norm*d_norm))     # arccos in NumPy,  acos() in SymPy \n",
    "theta = 180*theta/math.pi                   \n",
    "\n",
    "# OUTPUT\n",
    "print('The angle between vectors')\n",
    "print('theta =', round(theta, 2), 'deg')\n"
   ]
  },
  {
   "cell_type": "markdown",
   "metadata": {},
   "source": [
    "\n",
    "\n",
    "**2. Perpendicularity**\n",
    "\n",
    "**Problem.** Detrmine the value $a$ so that $ \\vec{A} = 2i + aj + k $ and $ \\vec{B} = 4i - 2j - 2k $ are perpendicular.[Sch19/10]\n",
    "\n",
    "**Solution.**  The equation for $a$ is obtained from the orthogonality condition\n",
    " $ \\vec{A} \\cdot \\vec{B} = 0.$ \n"
   ]
  },
  {
   "cell_type": "code",
   "execution_count": 14,
   "metadata": {},
   "outputs": [
    {
     "name": "stdout",
     "output_type": "stream",
     "text": [
      "Vectors are parpendicular when\n",
      "a = 3\n",
      "\n",
      "The equation for a:  6 - 2 a = 0\n"
     ]
    }
   ],
   "source": [
    "# 2a Perpendicularity with CoordSys\n",
    "C = CoordSys3D('C')   \n",
    "\n",
    "# INPUT\n",
    "a = symbols('a')\n",
    "A = 2*C.i + a*C.j + C.k             # Obs! C.i  C.j  C.k\n",
    "B = 4*C.i - 2*C.j - 2*C.k\n",
    "\n",
    "# CALCULATE\n",
    "# The equation for a is obtained from the orthogonality condition\n",
    "#  that the dot product must be zero.\n",
    "eq = Eq(A.dot(B), 0)                \n",
    "a = solve(eq, a)                    # List of solutions\n",
    "\n",
    "# OUTPUT\n",
    "print('Vectors are parpendicular when')\n",
    "print( 'a =', a[0])                 # The first member (and the only one) of the solutions list\n",
    "print()\n",
    "print('The equation for a: ', smp.latex(eq))"
   ]
  },
  {
   "cell_type": "code",
   "execution_count": 15,
   "metadata": {},
   "outputs": [
    {
     "name": "stdout",
     "output_type": "stream",
     "text": [
      "Vectors are parpendicular when\n",
      "a = 3\n",
      "\n",
      "The equation for a is\n"
     ]
    },
    {
     "data": {
      "text/latex": [
       "$\\displaystyle 6 - 2 a = 0$"
      ],
      "text/plain": [
       "Eq(6 - 2*a, 0)"
      ]
     },
     "execution_count": 15,
     "metadata": {},
     "output_type": "execute_result"
    }
   ],
   "source": [
    "# 2b Perpendicularity with SymPy matrix\n",
    "\n",
    "# INPUT\n",
    "a = symbols('a')\n",
    "A = smp.Matrix([2, a, 1])           # Matrix representation of vector A\n",
    "B = smp.Matrix([4,-2, -2])\n",
    "\n",
    "# CALCULATE\n",
    "# The calculation is the same as above\n",
    "eq = Eq(A.dot(B), 0)                \n",
    "a = solve(eq, a)                    # List of solutions\n",
    "\n",
    "# OUTPUT\n",
    "print('Vectors are parpendicular when')\n",
    "print( 'a =', a[0])                 # The first member (and the only one) of the solutions list\n",
    "print()\n",
    "print('The equation for a is')\n",
    "eq                                  # Equation for a\n",
    "\n",
    "\n",
    "# (Note that you cannot solve this with NumPy because it  operates only on numbers, not symbols!)"
   ]
  },
  {
   "cell_type": "markdown",
   "metadata": {},
   "source": [
    "**3. Projection of a vector $\\vec{A}$ on the vector $\\vec{B}$**\n",
    "\n",
    "**Problem** Find the projection of vector $\\vec{A} = i - 2j + k    $ on the vector $\\vec{B} = 4i - 4j + 7k $. [Sch20/13]\n",
    "\n",
    "**Solution.** The projection is the dot product of vector $\\vec{A}$ with a unit vector in the direction of vector $\\vec{B}$.\n",
    "\n",
    "$$ A_B =  \\vec{A} \\cdot \\frac{\\vec{B}} {|\\vec{B}|} = \\vec{A} \\cdot \\vec{b}$$ "
   ]
  },
  {
   "cell_type": "code",
   "execution_count": 16,
   "metadata": {},
   "outputs": [
    {
     "name": "stdout",
     "output_type": "stream",
     "text": [
      "Projection is 19/9 ≈ 2.11\n"
     ]
    }
   ],
   "source": [
    "# Projektion of a vector A on the vector B\n",
    "C = CoordSys3D('C')   \n",
    "\n",
    "# INPUT\n",
    "A = C.i - 2*C.j + C.k                          # Obs! C.i  C.j  C.k\n",
    "B = 4*C.i - 4*C.j + 7*C.k\n",
    "\n",
    "# CALCULATE \n",
    "b = B/sqrt(B.dot(B))                           # The unit vector in the direction of vector B\n",
    "proj_Ab = A.dot(b)\n",
    "\n",
    "# OUTPUT\n",
    "print('Projection is', proj_Ab, '≈', round(N(proj_Ab), 2))  # N convers rational to float approx. "
   ]
  },
  {
   "cell_type": "code",
   "execution_count": 17,
   "metadata": {},
   "outputs": [
    {
     "data": {
      "text/latex": [
       "$\\displaystyle \\frac{19}{81}$"
      ],
      "text/plain": [
       "19/81"
      ]
     },
     "execution_count": 17,
     "metadata": {},
     "output_type": "execute_result"
    }
   ],
   "source": [
    "# Sympy has also projection() method\n",
    "A = C.i -2*C.j + C.k                          # Obs! C.i  C.j  C.k\n",
    "B = 4*C.i - 4*C.j + 7*C.k\n",
    "\n",
    "B.projection(A, scalar=True)                   # Projektion of a vector A on the vector B\n"
   ]
  },
  {
   "cell_type": "code",
   "execution_count": 18,
   "metadata": {},
   "outputs": [
    {
     "name": "stdout",
     "output_type": "stream",
     "text": [
      "19/6\n"
     ]
    }
   ],
   "source": [
    "# from sympy.vector.coordsysrect import CoordSys3D\n",
    "#C = CoordSys3D('C')\n",
    "#i, j, k = C.base_vectors()\n",
    "print(A.projection(B, scalar=True))"
   ]
  },
  {
   "cell_type": "code",
   "execution_count": 19,
   "metadata": {},
   "outputs": [
    {
     "name": "stdout",
     "output_type": "stream",
     "text": [
      "Projection is 2.11\n"
     ]
    }
   ],
   "source": [
    "# The same angle as above can also be performed with NumPy.\n",
    "# Projektion of a vector C on the vector D\n",
    "\n",
    "# INPUT\n",
    "u = np.array([1, -2, 1])\n",
    "v = np.array([4, -4, 7])\n",
    "\n",
    "# CALCULATE \n",
    "u_proj_v = np.dot(u, v) / np.linalg.norm(v)\n",
    "\n",
    "# OUTPUT\n",
    "print('Projection is', round(u_proj_v, 2))"
   ]
  },
  {
   "cell_type": "markdown",
   "metadata": {},
   "source": [
    "**4a. Line through two given points**\n",
    "\n",
    "**Problem.** Find the parametric equation of the straight line which passes through points $P_0 (1,1,1)$ and $P_1 (3,7,1)$. Make the parameter $s$ so that it is a *lenght parameter* from the point $P_0$.\n",
    "\n",
    "**Solution** The line equation is $ r = r_0 + t(r_1 - r_0)$. The parameter *t* becomes a lenght parameter (*s*), if the \n",
    "the vector $(r_1 - r_0)$ is a unit vector."
   ]
  },
  {
   "cell_type": "code",
   "execution_count": 20,
   "metadata": {},
   "outputs": [
    {
     "name": "stdout",
     "output_type": "stream",
     "text": [
      "The equation of the line r(s) =\n"
     ]
    },
    {
     "data": {
      "text/latex": [
       "$\\displaystyle \\left[\\begin{matrix}\\frac{\\sqrt{10} s}{10} + 1\\\\\\frac{3 \\sqrt{10} s}{10} + 1\\\\1\\end{matrix}\\right]$"
      ],
      "text/plain": [
       "Matrix([\n",
       "[  sqrt(10)*s/10 + 1],\n",
       "[3*sqrt(10)*s/10 + 1],\n",
       "[                  1]])"
      ]
     },
     "execution_count": 20,
     "metadata": {},
     "output_type": "execute_result"
    }
   ],
   "source": [
    "# The line through two given points\n",
    "s = symbols('s')                            # The lenght parameter\n",
    "r0 = Matrix([1,1,1])                        # Position vector to the line point, as SymPy Matrix\n",
    "r1 = Matrix([3,7,1])\n",
    "\n",
    "r01 = Matrix(r1-r0)                         # The vector between points P0 and P1 (unnormalized)\n",
    "r01_norm = sqrt(r01.dot(r01))               \n",
    "r01n =r01/r01_norm                          # Unit vector in the direction of the line\n",
    "r = r0 + s*r01n                             # Parametric equation of the line. The parameter s\n",
    "                                            # tells the distance from the point r0 = (1,1,1)\n",
    "\n",
    "\n",
    "print('The equation of the line r(s) =')  \n",
    "r\n"
   ]
  },
  {
   "cell_type": "markdown",
   "metadata": {},
   "source": [
    "**4b.** At what value of $s$ does the line reach the point P(5, 13, 1)?"
   ]
  },
  {
   "cell_type": "code",
   "execution_count": 21,
   "metadata": {},
   "outputs": [
    {
     "name": "stdout",
     "output_type": "stream",
     "text": [
      "Point P is reached with the parameter value s1 =  4*sqrt(10)\n",
      "\n",
      "Check if the point P(5,13,1) is reached by placing the value s1 in s in the line equation r(s):\n",
      "P1  =  r(s1) =\n"
     ]
    },
    {
     "data": {
      "text/latex": [
       "$\\displaystyle \\left[\\begin{matrix}5.0\\\\13.0\\\\1.0\\end{matrix}\\right]$"
      ],
      "text/plain": [
       "Matrix([\n",
       "[ 5.0],\n",
       "[13.0],\n",
       "[ 1.0]])"
      ]
     },
     "execution_count": 21,
     "metadata": {},
     "output_type": "execute_result"
    }
   ],
   "source": [
    "r2 = Matrix([5, 13, 1])\n",
    "\n",
    "eq = Eq(r - r2, Matrix([0,0,0]))                \n",
    "solution = solve(eq, s)             # Solution is a dictionary      \n",
    "s1 = solution[s]                    # s1 is the value of key 's' of the dictionary 'solution'\n",
    "print('Point P is reached with the parameter value s1 = ', s1)\n",
    "\n",
    "P1 = r.subs([(s, s1)]).evalf()       # Check by substituting the parameter s with value s1\n",
    "print()\n",
    "print('Check if the point P(5,13,1) is reached by placing the value s1 in s in the line equation r(s):')\n",
    "print('P1  =  r(s1) =')\n",
    "P1"
   ]
  },
  {
   "cell_type": "markdown",
   "metadata": {},
   "source": [
    "**4c.** Check if the parameter value *s1* is the same as the norm of the vector $(\\vec{P_1} - \\vec{P_0})$ on the line."
   ]
  },
  {
   "cell_type": "code",
   "execution_count": 22,
   "metadata": {},
   "outputs": [
    {
     "name": "stdout",
     "output_type": "stream",
     "text": [
      "True\n"
     ]
    }
   ],
   "source": [
    "# Check if the parameter value s1 is the same as the norm of the vector P1-r0\n",
    "norm_P1_r0 = sqrt((P1-r0).dot(P1-r0))     # Norm of the vector P1-r0\n",
    "print(norm_P1_r0 == N(s1))\n"
   ]
  },
  {
   "cell_type": "markdown",
   "metadata": {},
   "source": [
    "**5. Area of the triangle**\n",
    "\n",
    "**Problem.** Find the area of the triangle having vertices P(1,3,2), Q(2,-1,1), R(-1,2,3). [Sch24/31] \n",
    "\n",
    "**Solution.**  $$A = ½|\\vec{PQ} \\times \\vec{PR}|\n",
    " = ½|(\\vec{Q} - \\vec{P}) \\times (\\vec{R} - \\vec{P})|               $$\n"
   ]
  },
  {
   "cell_type": "code",
   "execution_count": 23,
   "metadata": {},
   "outputs": [
    {
     "name": "stdout",
     "output_type": "stream",
     "text": [
      "The area of triangle is \n"
     ]
    },
    {
     "data": {
      "text/latex": [
       "$\\displaystyle \\frac{\\sqrt{107}}{2}$"
      ],
      "text/plain": [
       "sqrt(107)/2"
      ]
     },
     "execution_count": 23,
     "metadata": {},
     "output_type": "execute_result"
    }
   ],
   "source": [
    "# The area of the triangle\n",
    "C = CoordSys3D('C')   \n",
    "\n",
    "# INPUT\n",
    "P =  1*C.i + 3*C.j + 2*C.k\n",
    "Q =  2*C.i + (-1)*C.j + 1*C.k\n",
    "R =  -1*C.i + 2*C.j + 3*C.k\n",
    "\n",
    "#CALCULATE\n",
    "PQ = Q-P\n",
    "PR = R-P                              \n",
    "crs = PQ.cross(PR)                              # Cross product\n",
    "A = (1/2)*sqrt(crs.dot(crs))                    # (1/2)|crs|\n",
    "\n",
    "# OUTPUT\n",
    "A = nsimplify(A)                                #  0.5  --> 1/2 output in rational form\n",
    "print('The area of triangle is ')\n",
    "A"
   ]
  },
  {
   "cell_type": "markdown",
   "metadata": {},
   "source": [
    "**6. Volume of the parallelepiped**\n",
    "\n",
    "**Problem.** Find the volume of the parallelepiped whos edges are presented by $ \\vec{A} = 2i - 3j + 4k,    \\vec{B} = i + 2j - k$   and $\\vec{C} =3i - j + 2k $. [Sch33/90]\n",
    "\n",
    "**Solution.**  The volume is given by the triple product    $ V = | \\vec{A} \\cdot (\\vec{B} \\times \\vec{C})|.$"
   ]
  },
  {
   "cell_type": "code",
   "execution_count": 24,
   "metadata": {},
   "outputs": [
    {
     "name": "stdout",
     "output_type": "stream",
     "text": [
      " The volume is 7\n"
     ]
    }
   ],
   "source": [
    "# Volume of the parallelpiped\n",
    "\n",
    "# INIT\n",
    "from sympy import *\n",
    "x, y, z, a = symbols('x y z a')\n",
    "from sympy.vector import CoordSys3D, Del\n",
    "C = CoordSys3D('C')                     \n",
    "\n",
    "#INPUT\n",
    "A = 2*C.i - 3*C.j + 4*C.k\n",
    "B = 1*C.i + 2*C.j - 1*C.k\n",
    "C = 3*C.i - 1*C.j + 2*C.k\n",
    "\n",
    "# CALCULATE\n",
    "V = Abs(A.dot(B.cross(C)))\n",
    "print(' The volume is', V)"
   ]
  },
  {
   "cell_type": "markdown",
   "metadata": {},
   "source": [
    "**7. Equation of the plane**\n",
    "\n",
    "**Problem.** Find an equation for the plane determined by the poins $P_1(2,-1,1), P_2(3,2,-1), P_3(-1,3,2).$ [Sch28/45]\n",
    "\n",
    "**Solution** Equation of the plane is obtained from the fact that the triple product \n",
    "$\\vec{A} \\cdot (\\vec{B} \\times \\vec{C}) $  represents the volume of the parallelogram, which those vectors set and where they have the same starting point. If this triple product is zero, the vectors must lie in the same plane. If vector $\\vec{r}$ is a position vector of arbitrary point in the plane, we have the plane equation\n",
    "\n",
    "$$   (\\vec{r} - \\vec{r_1}) \\cdot [(\\vec{r_2} - \\vec{r_1})  \\times (\\vec{r_3} - \\vec{r_1})] = 0,$$\n",
    "where the vectors $\\vec{r_1}, \\vec{r_2}, \\vec{r_3}$ are the position vectors of the three known points in the plane."
   ]
  },
  {
   "cell_type": "code",
   "execution_count": 25,
   "metadata": {},
   "outputs": [
    {
     "name": "stdout",
     "output_type": "stream",
     "text": [
      "Equation of the plane is\n"
     ]
    },
    {
     "data": {
      "text/latex": [
       "$\\displaystyle 11 x + 5 y + 13 z - 30 = 0$"
      ],
      "text/plain": [
       "Eq(11*x + 5*y + 13*z - 30, 0)"
      ]
     },
     "execution_count": 25,
     "metadata": {},
     "output_type": "execute_result"
    }
   ],
   "source": [
    "# Equation of the plane\n",
    "\n",
    "# INIT\n",
    "from sympy import *\n",
    "x, y, z= symbols('x y z')\n",
    "from sympy.vector import CoordSys3D, Del\n",
    "C = CoordSys3D('C')                     \n",
    "\n",
    "# INPUT\n",
    "P1 =  [2,-1, 1]\n",
    "P2 = [ 3, 2,-1]\n",
    "P3 = [-1, 3, 2]\n",
    "\n",
    "# CALCULATE\n",
    "r = x*C.i + y*C.j + z*C.k \n",
    "r1 = P1[0]*C.i + P1[1]*C.j + P1[2]*C.k\n",
    "r2 = P2[0]*C.i + P2[1]*C.j + P2[2]*C.k\n",
    "r3 = P3[0]*C.i + P3[1]*C.j + P3[2]*C.k\n",
    "eq1 = Eq((r-r1).dot( (r2-r1).cross(r3 -r1) ), 0)       # (r-r1) * [(r2-r1) x (r3 -r1)] = 0\n",
    "\n",
    "# OUTPUT \n",
    "print('Equation of the plane is')\n",
    "eq1"
   ]
  },
  {
   "cell_type": "code",
   "execution_count": 26,
   "metadata": {},
   "outputs": [
    {
     "name": "stdout",
     "output_type": "stream",
     "text": [
      "Equation of the plane is\n"
     ]
    },
    {
     "data": {
      "text/latex": [
       "$\\displaystyle 11 x + 5 y + 13 z - 30 = 0$"
      ],
      "text/plain": [
       "Eq(11*x + 5*y + 13*z - 30, 0)"
      ]
     },
     "execution_count": 26,
     "metadata": {},
     "output_type": "execute_result"
    }
   ],
   "source": [
    "# The same equation is found more easily with SymPy Matrix\n",
    "\n",
    "# INIT\n",
    "from sympy import *\n",
    "x, y, z= symbols('x y z')\n",
    "   \n",
    "# INPUT\n",
    "r  = smp.Matrix([x,y,z])\n",
    "r1 = smp.Matrix([2,-1,1])\n",
    "r2 = smp.Matrix([3,2,-1])\n",
    "r3 = smp.Matrix([-1,3,2])\n",
    "\n",
    "# CALCULATE\n",
    "eq1 = Eq((r-r1).dot( (r2-r1).cross(r3 -r1) ), 0)       # (r-r1) * [(r2-r1) x (r3 -r1)] = 0\n",
    "\n",
    "# OUTPUT \n",
    "print('Equation of the plane is')\n",
    "eq1"
   ]
  },
  {
   "cell_type": "code",
   "execution_count": 27,
   "metadata": {},
   "outputs": [
    {
     "name": "stdout",
     "output_type": "stream",
     "text": [
      "Equation of the plane is\n"
     ]
    },
    {
     "data": {
      "text/latex": [
       "$\\displaystyle 11 x + 5 y + 13 z - 30 = 0$"
      ],
      "text/plain": [
       "Eq(11*x + 5*y + 13*z - 30, 0)"
      ]
     },
     "execution_count": 27,
     "metadata": {},
     "output_type": "execute_result"
    }
   ],
   "source": [
    "# CALCULATE_2\n",
    "# As is known, the vector triple product corresponds to the determinant\n",
    "# formed from the coefficients of the vectors.\n",
    "# Thus the equation for the plane is also obtained by setting \n",
    "# the determinant of this matrix to zero.\n",
    "\n",
    "M =   Matrix([[x    -P1[0],   y   -P1[1],       z-P1[2]],  #  r  - r1\n",
    "              [P2[0]-P1[0],  P2[1]-P1[1],   P2[2]-P1[2]],  #  r2 - r1\n",
    "              [P3[0]-P1[0],  P3[1]-P1[1],   P3[2]-P1[2]]   #  r3 - r1\n",
    "             ])\n",
    "eq2 = Eq(M.det(), 0)         # Equation: (r-r1) * [(r2-r1) x (r3 -r1)]  =  det(M)  =  0\n",
    "\n",
    "# OUTPUT_2\n",
    "print('Equation of the plane is')\n",
    "eq2"
   ]
  },
  {
   "cell_type": "markdown",
   "metadata": {},
   "source": [
    "**8. Work done in moving an object along a vector by a force**\n",
    "\n",
    "**Problem.** Find the work done in moving an object along a vector $\\vec{r} = 3i + 2j - 5k    $ if the applied force is  $\\vec{F} = 2i - j - k $. [Sch21/17]\n",
    "\n",
    "**Solution.**  $ W =  \\vec{F} \\cdot \\vec{r} $ \n",
    "\n"
   ]
  },
  {
   "cell_type": "code",
   "execution_count": 28,
   "metadata": {},
   "outputs": [
    {
     "name": "stdout",
     "output_type": "stream",
     "text": [
      "Work done is 9\n"
     ]
    }
   ],
   "source": [
    "# Work done in moving an object along a vector by a force \n",
    "\n",
    "# INIT\n",
    "from sympy import *\n",
    "x, y, z= symbols('x y z')\n",
    "from sympy.vector import CoordSys3D, Del\n",
    "C = CoordSys3D('C')                     \n",
    "\n",
    "# INPUT\n",
    "F = 3*C.i + 2*C.j - 5*C.k               # Obs! C.i  C.j  C.k\n",
    "r = 2*C.i - C.j - C.k\n",
    "\n",
    "# CALCULATE\n",
    "W = F.dot(r)                            # W = F*cos(ϴ)*|r|                    \n",
    "\n",
    "# OUTPUT\n",
    "print('Work done is', W)"
   ]
  },
  {
   "cell_type": "markdown",
   "metadata": {},
   "source": [
    "**9. Rotating body, angular and linear velocity**\n",
    "\n",
    "**Problem.** The angular velocity of a rigid body about an axis of rotation is given by  $\\vec{\\omega} = 4i + j - 2k  $ . Find the linear velocity of a point P on the body whose position vector relative to point on axis is   $ 2i - 3j + k $. [Sch 26/86, 33/87]\n",
    "\n",
    "**Solution.**  $\\vec{v} =  \\vec{\\omega} \\times \\vec{r}$ \n"
   ]
  },
  {
   "cell_type": "code",
   "execution_count": 29,
   "metadata": {},
   "outputs": [
    {
     "name": "stdout",
     "output_type": "stream",
     "text": [
      "The linear velocity is (-5)*C.i + (-8)*C.j + (-14)*C.k\n"
     ]
    }
   ],
   "source": [
    "# Rotating body, angular and linear velocity\n",
    "# INIT\n",
    "from sympy import *\n",
    "x, y, z= symbols('x y z')\n",
    "from sympy.vector import CoordSys3D, Del\n",
    "C = CoordSys3D('C')                     \n",
    "\n",
    "# INPUT\n",
    "ω = 4*C.i + 1*C.j - 2*C.k               # Obs! C.i  C.j  C.k\n",
    "r = 2*C.i - 3*C.j + 1*C.k\n",
    "\n",
    "# CALCULATE\n",
    "v = ω.cross(r)\n",
    "\n",
    "# OUTPUT\n",
    "print('The linear velocity is', v)\n"
   ]
  },
  {
   "cell_type": "markdown",
   "metadata": {},
   "source": [
    "**10. Moment of a force**\n",
    "\n",
    "**Problem.** A force given by $\\vec{F} = 3i +2j -4k$ is applied at the point Q(1,-1,2). Find the moment of $\\vec{F}$ about the point P(2,-1,3). [Sch 25/85, 33/86]\n",
    "\n",
    "**Solution.**  $\\vec{M} =  \\vec{r} \\times \\vec{F}$, where  $\\vec{r} = \\vec{PQ}$. \n"
   ]
  },
  {
   "cell_type": "code",
   "execution_count": 30,
   "metadata": {},
   "outputs": [
    {
     "name": "stdout",
     "output_type": "stream",
     "text": [
      "The moment of the force is\n",
      "2*C.i + (-7)*C.j + (-2)*C.k\n"
     ]
    }
   ],
   "source": [
    "# 9a) Moment of a force with CoordSys\n",
    "C = CoordSys3D('C')\n",
    "\n",
    "# INPUT\n",
    "F = 3*C.i + 2*C.j - 4*C.k\n",
    "Q = Matrix([1,-1,2])                # Matrix form in order to perform subtraction Q-P\n",
    "P = Matrix([2,-1,3])\n",
    "\n",
    "# CALCULATE                         \n",
    "PQ = Q-P\n",
    "r = PQ[0]*C.i + PQ[1]*C.j + PQ[2]*C.k\n",
    "M = r.cross(F)                      #   M = r x F\n",
    "\n",
    "# OUTPUT\n",
    "print('The moment of the force is')\n",
    "print(M)\n"
   ]
  },
  {
   "cell_type": "code",
   "execution_count": 31,
   "metadata": {},
   "outputs": [
    {
     "name": "stdout",
     "output_type": "stream",
     "text": [
      "The moment of the force is\n"
     ]
    },
    {
     "data": {
      "text/latex": [
       "$\\displaystyle \\left[\\begin{matrix}2\\\\-7\\\\-2\\end{matrix}\\right]$"
      ],
      "text/plain": [
       "Matrix([\n",
       "[ 2],\n",
       "[-7],\n",
       "[-2]])"
      ]
     },
     "execution_count": 31,
     "metadata": {},
     "output_type": "execute_result"
    }
   ],
   "source": [
    "# 9b) Moment of a force with SymPy matrix\n",
    "\n",
    "# INPUT\n",
    "F = Matrix([3,2,-4])\n",
    "Q = Matrix([1,-1,2])                \n",
    "P = Matrix([2,-1,3])\n",
    "\n",
    "# CALCULATE                         \n",
    "r = Q-P\n",
    "M = r.cross(F)                      #   M = r x F\n",
    "\n",
    "# OUTPUT\n",
    "print('The moment of the force is')\n",
    "M\n"
   ]
  },
  {
   "cell_type": "code",
   "execution_count": null,
   "metadata": {},
   "outputs": [],
   "source": []
  }
 ],
 "metadata": {
  "kernelspec": {
   "display_name": "Python 3 (ipykernel)",
   "language": "python",
   "name": "python3"
  },
  "language_info": {
   "codemirror_mode": {
    "name": "ipython",
    "version": 3
   },
   "file_extension": ".py",
   "mimetype": "text/x-python",
   "name": "python",
   "nbconvert_exporter": "python",
   "pygments_lexer": "ipython3",
   "version": "3.11.5"
  }
 },
 "nbformat": 4,
 "nbformat_minor": 2
}
