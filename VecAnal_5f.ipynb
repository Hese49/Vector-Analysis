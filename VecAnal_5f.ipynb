{
 "cells": [
  {
   "cell_type": "markdown",
   "id": "50a686ba",
   "metadata": {},
   "source": [
    " ## 5f. Stokes' Theorem \n",
    " "
   ]
  },
  {
   "cell_type": "code",
   "execution_count": 1,
   "id": "20716991",
   "metadata": {},
   "outputs": [],
   "source": [
    "import sympy as sp\n",
    "from sympy import sin, cos, exp, pi, symbols\n",
    "from sympy.vector import CoordSys3D, ParametricRegion, gradient, curl, vector_integrate\n",
    "from sympy.abc import r, x, y, z, t, theta, phi\n",
    "C = CoordSys3D('C')"
   ]
  },
  {
   "cell_type": "markdown",
   "id": "c837f387",
   "metadata": {},
   "source": [
    "===========================================================================================\n",
    "\n",
    "**Stoke’s Theorem.** Let *S* be an oriented smooth surface that is bounded by a simple, closed, smooth boundary curve *C* with positive orientation. Also let $\\vec{F}$ be a vector field then,  \n",
    "             \n",
    "$$ \\begin{array}{l}\\oint _{C} \\vec{F} \\cdot \\vec{dr} = \\iint_{S}(\\bigtriangledown \\times \\vec{F}) \\cdot \\vec{dS}\\end{array}$$\n",
    "\n",
    "(Watch the YouTube: Dr. Trefor Bazett, Stokes' Theorem) \n",
    "\n",
    "==========================================================================================="
   ]
  },
  {
   "cell_type": "markdown",
   "id": "da562c03",
   "metadata": {},
   "source": [
    "**Example.1 Verifying Stoke’s**    *[SymPy 1.12 doc]*"
   ]
  },
  {
   "cell_type": "code",
   "execution_count": 2,
   "id": "59bbfebd",
   "metadata": {},
   "outputs": [
    {
     "name": "stdout",
     "output_type": "stream",
     "text": [
      "Line integral is -pi/4\n",
      "Surface integral is -pi/4\n"
     ]
    }
   ],
   "source": [
    "# Vector field\n",
    "F = C.y*C.i + C.z*C.k + C.x*C.k\n",
    "\n",
    "# Closed Curve  C: a quarter of a circle closed by coordinate axes\n",
    "curve = ParametricRegion((cos(theta), sin(theta)), (theta, 0, pi/2))                      # One parameter -> curve\n",
    "\n",
    "# Surface S bounded by the curve C\n",
    "surface = ParametricRegion((r*cos(theta), r*sin(theta)), (r, 0, 1), (theta, 0, pi/2))     # Two parameters -> surface\n",
    "\n",
    "# LEFT SIDE:  Line integral along the closed curve C (traversed in the positive direction)\n",
    "print('Line integral is', vector_integrate(F, curve))\n",
    "\n",
    "# RIGHT SIDE: Surface integral across the surface S\n",
    "print('Surface integral is',  vector_integrate(curl(F), surface))"
   ]
  },
  {
   "cell_type": "markdown",
   "id": "61f34f9a",
   "metadata": {},
   "source": [
    "================================================================================================\n",
    "\n",
    "**Verifying Stoke’s Exmple.2**   *[SymPy 1.12 doc]*"
   ]
  },
  {
   "cell_type": "code",
   "execution_count": 3,
   "id": "712b2403",
   "metadata": {},
   "outputs": [
    {
     "name": "stdout",
     "output_type": "stream",
     "text": [
      "Line integral is pi/2\n",
      "Surface integral is pi/2\n"
     ]
    }
   ],
   "source": [
    "# Vectorfield\n",
    "F = (-C.y**3/3 + sin(C.x))*C.i + (C.x**3/3 + cos(C.y))*C.j + C.x*C.y*C.z*C.k\n",
    "\n",
    "# Closed curve C: The circle of radius 1, z=1.\n",
    "# ParametricRegion((x,y,z), (interval of integration)), cylindrical coordinates\n",
    "circle = ParametricRegion((cos(theta), sin(theta), 1), (theta, 0, 2*pi))          \n",
    "\n",
    "# Surface S: a cone bounded by the curve C (traversed in the positive direction)\n",
    "cone = ParametricRegion((r*cos(theta), r*sin(theta), r), (r, 0, 1), (theta, 0, 2*pi))\n",
    "# ParametricRegion((x,y,z), (interval for r), (interval for theta))\n",
    "\n",
    "# LEFT SIDE:  Line integral along the closed curve C (traversed in the positive direction)\n",
    "print('Line integral is', vector_integrate(F, circle))\n",
    "\n",
    "# RIGHT SIDE:  Surface integral over the surface\n",
    "print('Surface integral is',  vector_integrate(curl(F), cone))"
   ]
  }
 ],
 "metadata": {
  "kernelspec": {
   "display_name": "Python 3 (ipykernel)",
   "language": "python",
   "name": "python3"
  },
  "language_info": {
   "codemirror_mode": {
    "name": "ipython",
    "version": 3
   },
   "file_extension": ".py",
   "mimetype": "text/x-python",
   "name": "python",
   "nbconvert_exporter": "python",
   "pygments_lexer": "ipython3",
   "version": "3.11.5"
  }
 },
 "nbformat": 4,
 "nbformat_minor": 5
}
