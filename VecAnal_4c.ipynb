{
 "cells": [
  {
   "cell_type": "markdown",
   "metadata": {},
   "source": [
    "### 4c. Curl\n",
    "\n",
    "1. Calculate curl\n",
    "2. Irrotational vectorfield\n",
    "3. Scalar potential of a conservative vector field"
   ]
  },
  {
   "cell_type": "code",
   "execution_count": 1,
   "metadata": {},
   "outputs": [],
   "source": [
    "# INIT\n",
    "from sympy import *\n",
    "x, y, z, D = symbols('x y z D')\n",
    "from sympy.vector import CoordSys3D, Del, curl\n",
    "C = CoordSys3D('C')\n",
    "\n",
    "#r = x*C.i + y*C.j + z*C.k\n",
    "#  = *C.i + *C.j + *C.k\n"
   ]
  },
  {
   "cell_type": "markdown",
   "metadata": {},
   "source": [
    "**1. Calculate curl**\n",
    "\n",
    "**Problem.** A vector $\\vec{A} = xz^3\\vec{i}  - 2x^2yz\\vec{j} + 2yz^4\\vec{k}$, find the   $  \\nabla\\times \\vec{A} $  at the point (1,-1,1). &nbsp; [Sch67/23]"
   ]
  },
  {
   "cell_type": "code",
   "execution_count": 2,
   "metadata": {},
   "outputs": [
    {
     "name": "stdout",
     "output_type": "stream",
     "text": [
      "The curl is\n"
     ]
    },
    {
     "data": {
      "text/latex": [
       "$\\displaystyle \\left(5.0 \\cdot 10^{-125}\\right)\\mathbf{\\hat{i}_{C}} + \\left(3.0\\right)\\mathbf{\\hat{j}_{C}} + \\left(4.0\\right)\\mathbf{\\hat{k}_{C}}$"
      ],
      "text/plain": [
       "(0.e-125)*C.i + 3.0*C.j + 4.0*C.k"
      ]
     },
     "execution_count": 2,
     "metadata": {},
     "output_type": "execute_result"
    }
   ],
   "source": [
    "# INIT\n",
    "\n",
    "# INPUT\n",
    "A = C.x*C.z**3*C.i  - 2*C.x**2*C.y*C.z*C.j + 2*C.y*C.z**4*C.k\n",
    "P = [1, -1, 1]\n",
    "\n",
    "# CALCULATE\n",
    "crl_A = curl(A)\n",
    "crl_AP = crl_A.evalf(subs={C.x:P[0], C.y:P[1], C.z:P[2]})\n",
    "\n",
    "# OUTPUT\n",
    "print('The curl is')\n",
    "crl_AP"
   ]
  },
  {
   "cell_type": "markdown",
   "metadata": {},
   "source": [
    "========================================================================================================\n",
    "\n",
    "**2. Irrotational  vectorfield**\n",
    "\n",
    "**Problem.** A vector field $\\vec{V}$ is called *irrotational*, if &nbsp; $ curl\\vec{V} = \\vec{0}. $  &nbsp; Find constants *a,b,c* so  that\n",
    "$$ V = (x+2y+az)\\vec{i} +(bx-3y-z)\\vec{j} + (4x+cy+2z)\\vec{k} $$\n",
    "is irrotational."
   ]
  },
  {
   "cell_type": "code",
   "execution_count": 3,
   "metadata": {},
   "outputs": [
    {
     "name": "stdout",
     "output_type": "stream",
     "text": [
      "From the equation below  we immediately see, that if a=4, b=2, c=-1, then curl V = 0. \n"
     ]
    }
   ],
   "source": [
    "# Irrotational  vectorfield\n",
    "\n",
    "# INIT\n",
    "a, b, c = symbols('a b c')\n",
    "from sympy.vector import Vector\n",
    "\n",
    "# INPUT\n",
    "V = (C.x + 2*C.y + a*C.z)*C.i + (b*C.x - 3*C.y - C.z)*C.j + (4*C.x + c*C.y + 2*C.z)*C.k\n",
    "\n",
    "# CALCULATE\n",
    "curl_V = curl(V)                                                                           # Curl of vectorfield V\n",
    "eq = Eq(curl_V, Vector.zero)                                                               # Equation :  curl V = 0(vector)\n",
    "\n",
    "# OUTPUT\n",
    "print('From the equation below  we immediately see, that if a=4, b=2, c=-1, then curl V = 0. ')\n"
   ]
  },
  {
   "cell_type": "code",
   "execution_count": 4,
   "metadata": {},
   "outputs": [
    {
     "data": {
      "text/latex": [
       "$\\displaystyle \\left(\\mathbf{{x}_{C}} + 2 \\mathbf{{y}_{C}} + 4 \\mathbf{{z}_{C}}\\right)\\mathbf{\\hat{i}_{C}} + \\left(2 \\mathbf{{x}_{C}} - 3 \\mathbf{{y}_{C}} - \\mathbf{{z}_{C}}\\right)\\mathbf{\\hat{j}_{C}} + \\left(4 \\mathbf{{x}_{C}} - \\mathbf{{y}_{C}} + 2 \\mathbf{{z}_{C}}\\right)\\mathbf{\\hat{k}_{C}}$"
      ],
      "text/plain": [
       "(C.x + 2*C.y + 4*C.z)*C.i + (2*C.x - 3*C.y - C.z)*C.j + (4*C.x - C.y + 2*C.z)*C.k"
      ]
     },
     "execution_count": 4,
     "metadata": {},
     "output_type": "execute_result"
    }
   ],
   "source": [
    "# Make vector field V conservative using the above substitutions\n",
    "V = V.subs([(a, 4), (b, 2), (c, -1)] )\n",
    "V"
   ]
  },
  {
   "cell_type": "code",
   "execution_count": 5,
   "metadata": {},
   "outputs": [
    {
     "name": "stdout",
     "output_type": "stream",
     "text": [
      "Is curl V zero? True\n"
     ]
    }
   ],
   "source": [
    "# Irrotationality check\n",
    "print('Is curl V zero?', curl(V) == Vector.zero )"
   ]
  },
  {
   "cell_type": "markdown",
   "metadata": {},
   "source": [
    "=========================================================================================================\n",
    "\n",
    "**3. Scalar potential of a conservative vector field**\n",
    "\n",
    "**Problem.** Find the scalar potential for the vector field $\\vec{V}$  from the previous problem.\n",
    "\n",
    "**Solution.** Vector field $\\vec{V}$ is a *conservative vector field* if it is the gradient of some function $ \\phi $ i.e \n",
    "$$ \\vec{V} =  \\nabla\\phi  $$\n",
    "The function $\\phi$ is called the *scalar potential*. In general if vector field $\\vec{V}$ is irrotational i.e &nbsp; $\\nabla \\times \\vec{V} = \\vec{0},$ &nbsp; then we can find $ \\phi $ so that &nbsp; $ \\vec{V} = \\nabla \\phi. $ (Also conversely if  $ \\vec{V} = \\nabla \\phi, $ then  $\\nabla \\times \\vec{V} = \\vec{0}.)$"
   ]
  },
  {
   "cell_type": "code",
   "execution_count": 6,
   "metadata": {},
   "outputs": [
    {
     "name": "stdout",
     "output_type": "stream",
     "text": [
      "V is conservative? True\n",
      "Scalar potential Φ = C.x**2/2 + C.x*(2*C.y + 4*C.z) - 3*C.y**2/2 - C.y*C.z + C.z**2 + D\n",
      "Gradient Φ is V?  True\n"
     ]
    }
   ],
   "source": [
    "# Scalar potential \n",
    "\n",
    "# INIT\n",
    "from sympy.vector import CoordSys3D, scalar_potential \n",
    "D = symbols('D', constant = True)\n",
    "\n",
    "# INPUT\n",
    "V = (C.x + 2*C.y + 4*C.z)*C.i + (2*C.x - 3*C.y - C.z)*C.j + (4*C.x - C.y + 2*C.z)*C.k\n",
    "\n",
    "# CALCULATE\n",
    "Φ = scalar_potential(V, C) + D                                 # Sympy function (vector field, CoordSys, D is some constant\n",
    "\n",
    "# OUTPUT\n",
    "print('V is conservative?', curl(V) == Vector.zero )           # Conservative check\n",
    "print('Scalar potential Φ =', Φ)\n",
    "print('Gradient Φ is V? ',  Del().gradient(Φ).doit() == V)"
   ]
  },
  {
   "cell_type": "code",
   "execution_count": null,
   "metadata": {},
   "outputs": [],
   "source": []
  }
 ],
 "metadata": {
  "kernelspec": {
   "display_name": "Python 3 (ipykernel)",
   "language": "python",
   "name": "python3"
  },
  "language_info": {
   "codemirror_mode": {
    "name": "ipython",
    "version": 3
   },
   "file_extension": ".py",
   "mimetype": "text/x-python",
   "name": "python",
   "nbconvert_exporter": "python",
   "pygments_lexer": "ipython3",
   "version": "3.11.5"
  }
 },
 "nbformat": 4,
 "nbformat_minor": 2
}
