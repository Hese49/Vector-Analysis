{
 "cells": [
  {
   "cell_type": "markdown",
   "metadata": {},
   "source": [
    "### 2c. TNB-Funktio\n",
    "\n",
    "**Tangent, principal Normal, Binormal, Curvature, Radius of curvature, Torsion**\n",
    " *[Sch47/22,23]*\n"
   ]
  },
  {
   "cell_type": "code",
   "execution_count": 1,
   "metadata": {},
   "outputs": [],
   "source": [
    "# INIT\n",
    "from sympy import *\n",
    "from sympy.vector import CoordSys3D\n",
    "t = symbols('t')                    # t is the parameter for the curve\n",
    "C = CoordSys3D('C')                 # Defines a standard coordinate system\n"
   ]
  },
  {
   "cell_type": "code",
   "execution_count": 2,
   "metadata": {},
   "outputs": [
    {
     "name": "stdout",
     "output_type": "stream",
     "text": [
      "Parameter value t0 = 1.5\n",
      "Fixed point P0 = [1.50000000000000, 2.25000000000000, 2.25000000000000]\n",
      "Unit tangent T0 = 0.181818181818182*C.i + 0.545454545454545*C.j + 0.818181818181818*C.k\n",
      "Principal normal N0 = (-0.545454545454545)*C.i + (-0.636363636363636)*C.j + 0.545454545454545*C.k\n",
      "Binormal B0 = 0.818181818181818*C.i + (-0.545454545454545)*C.j + 0.181818181818182*C.k\n",
      "Curvature k0 = 0.0661157024793388\n",
      "Radius of curvature rho0 = 15.1250000000000\n"
     ]
    }
   ],
   "source": [
    "# TNB-FUNKTIO\n",
    "\n",
    "# Input\n",
    "P = [t, t**2, (2/3*t**3)]                   # Parametric curve  \n",
    "t0 = 1.5                                    # Fixed value for parameter t\n",
    "\n",
    "# Evaluation of an expression where parameter t has a fixed value\n",
    "def at_t0(expr, t0):                        # Evaluates the expression at the point where t=t0\n",
    "    return expr.evalf(subs={t: t0 })\n",
    "\n",
    "# Unit vectors Tangent, principal Normal,  Binormal, Curvature, Radius of curvature and Torsion .. \n",
    "# for a curve P where parameter t = t0\n",
    "def TNB(P, t0):                             # (parametric curve, parameter value)\n",
    "    # Expressions\n",
    "    r = P[0]*C.i + P[1]*C.j + P[2]*C.k      # Position vector the curve in CoordSys C.\n",
    "    v = diff(r, t)                          # dr/dt gives the tangential velocity v (if t is time)\n",
    "    norm_v = sqrt(v.dot(v))                 # norm_v = |dr/dt| (speed, magnitude of velocity)\n",
    "    T = v/norm_v                            # T = dr/ds = (dr/dt)/(ds/dt) = (dr/dt)(|dr/dt|)\n",
    "    dT_dt = diff(T, t)                      # perpendicular to T\n",
    "    dT_ds = dT_dt/norm_v                    # dT/ds=(dT/dt)/(ds/dt)=(dT/dt)/|dr/dt|, s= arc lenght \n",
    "    k = sqrt(dT_ds.dot(dT_ds))              # Curvature k = |dT/ds|\n",
    "    N = (1/k)*dT_ds                         # Principal normal\n",
    "    B = T.cross(N)                          # Binormal\n",
    "    dB_dt = diff(B, t)                      # dB/ds = (dB/dt)/(ds/dt) = dB/dt)/|dr/dt| \n",
    "    dB_ds = dB_dt/norm_v                    # norm_v = |dr/dt| \n",
    "    tau = (sqrt(dB_ds.dot(dB_ds)))          # Torsion  tau = |dB_ds|\n",
    "    # At fixed point\n",
    "    T0 = at_t0(T, t0)\n",
    "    k0 = at_t0(k, t0)                       # Curvature \n",
    "    rho0 = 1/k0                             # Radius of curvature\n",
    "    N0 = at_t0(N, t0)\n",
    "    B0 = at_t0(B, t0)                       \n",
    "    tau0 = at_t0(tau, t0)                   # Torsion\n",
    "    return T0, N0, B0, k0, rho0, tau0\n",
    "\n",
    "# Fixed point\n",
    "P0 = [at_t0(P[0], t0), at_t0(P[1], t0), at_t0(P[2], t0) ]  # Function call (curve, fixed t) \n",
    "\n",
    "# Function call (curve, fixed t) \n",
    "T0, N0, B0, k0, rho0, tau0 = TNB(P,t0 )    \n",
    "\n",
    "# Output\n",
    "print('Parameter value t0 =', t0)\n",
    "print('Fixed point P0 =', P0)\n",
    "print('Unit tangent T0 =', T0)\n",
    "print('Principal normal N0 =', N0)\n",
    "print('Binormal B0 =', B0)\n",
    "print('Curvature k0 =', k0)\n",
    "print('Radius of curvature rho0 =', rho0)"
   ]
  },
  {
   "cell_type": "code",
   "execution_count": null,
   "metadata": {},
   "outputs": [],
   "source": []
  }
 ],
 "metadata": {
  "kernelspec": {
   "display_name": "Python 3 (ipykernel)",
   "language": "python",
   "name": "python3"
  },
  "language_info": {
   "codemirror_mode": {
    "name": "ipython",
    "version": 3
   },
   "file_extension": ".py",
   "mimetype": "text/x-python",
   "name": "python",
   "nbconvert_exporter": "python",
   "pygments_lexer": "ipython3",
   "version": "3.11.5"
  }
 },
 "nbformat": 4,
 "nbformat_minor": 2
}
