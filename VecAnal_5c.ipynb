{
 "cells": [
  {
   "cell_type": "markdown",
   "id": "fdae11b9",
   "metadata": {},
   "source": [
    "## 5c. Triple integrals \n"
   ]
  },
  {
   "cell_type": "code",
   "execution_count": 1,
   "id": "c45a9d1f",
   "metadata": {},
   "outputs": [],
   "source": [
    "import numpy as np\n",
    "import sympy as sp\n",
    "from sympy.vector import *\n",
    "import matplotlib.pyplot as plt\n",
    "from scipy.integrate import quad\n",
    "from scipy.integrate import quad_vec\n",
    "\n",
    "x, y, z, u1, u2, u3, v1, v2, v3, t = sp.symbols('x y z u_1 u_2 u_3 v_1 v_2 v_3 t')"
   ]
  },
  {
   "cell_type": "markdown",
   "id": "0e10b6fc",
   "metadata": {},
   "source": [
    "**Problem.** Integrate   $\\int_0^1 \\int_0^{1-x^2} \\int_3^{4-x^2-y^2} xdzdydx$"
   ]
  },
  {
   "cell_type": "code",
   "execution_count": 2,
   "id": "7347a9a7",
   "metadata": {},
   "outputs": [
    {
     "data": {
      "text/latex": [
       "$\\displaystyle \\frac{1}{8}$"
      ],
      "text/plain": [
       "1/8"
      ]
     },
     "execution_count": 2,
     "metadata": {},
     "output_type": "execute_result"
    }
   ],
   "source": [
    "# This can be symbolically integrated\n",
    "x, y, z = sp.symbols('x, y, z')\n",
    "f = x\n",
    "sp.integrate(f, (z, 3, 4-x**2-y**2), (y, 0, 1-x**2), (x, 0, 1))"
   ]
  },
  {
   "cell_type": "markdown",
   "id": "d39ab12b",
   "metadata": {},
   "source": [
    "===============================================================================================\n",
    "\n",
    "**Problem.** Integrate $ \\int_0^1 \\int_0^{1-x^2} \\int_3^{4-x^2-y^2} xe^{-y}\\cos(z)dzdydx$.\n"
   ]
  },
  {
   "cell_type": "code",
   "execution_count": 3,
   "id": "6a9293cb",
   "metadata": {},
   "outputs": [
    {
     "data": {
      "text/plain": [
       "-0.0911"
      ]
     },
     "execution_count": 3,
     "metadata": {},
     "output_type": "execute_result"
    }
   ],
   "source": [
    "# Integrating this is not possible numerically. It has to be done numerically.. \n",
    "# with SciPy's tplquad.\n",
    "from scipy.integrate import tplquad\n",
    "\n",
    "f = lambda z, y, x: x*np.exp(-y)*np.cos(z)                           # Numeric function for the integrand \n",
    "F = tplquad(f, 0, 1,\n",
    "        lambda x: 0, lambda x: 1-x**2,\n",
    "        lambda x, y: 3, lambda x, y: 4-x**2-y**2)[0]\n",
    "F = round(F, 5)\n",
    "F"
   ]
  },
  {
   "cell_type": "markdown",
   "id": "29be7916",
   "metadata": {},
   "source": [
    "===============================================================================================\n",
    "\n",
    "**Problem.** Calculate the volume of a sphere with a radius 3.  [SymPy 1.12 doc]"
   ]
  },
  {
   "cell_type": "code",
   "execution_count": 4,
   "id": "433b480c",
   "metadata": {},
   "outputs": [],
   "source": [
    "from sympy import sin, cos, exp, pi, symbols\n",
    "from sympy.vector import CoordSys3D, ParametricRegion, ImplicitRegion, vector_integrate\n",
    "from sympy.abc import r, x, y, z, theta, phi\n",
    "C = CoordSys3D('C')"
   ]
  },
  {
   "cell_type": "code",
   "execution_count": 5,
   "id": "43ceaafa",
   "metadata": {},
   "outputs": [
    {
     "name": "stdout",
     "output_type": "stream",
     "text": [
      "The volume is ≈ 113.1\n"
     ]
    },
    {
     "data": {
      "text/latex": [
       "$\\displaystyle 36 \\pi$"
      ],
      "text/plain": [
       "36*pi"
      ]
     },
     "execution_count": 5,
     "metadata": {},
     "output_type": "execute_result"
    }
   ],
   "source": [
    "# We define the ParametricRegion of a solid sphere with three parameters: r, theta, phi.\n",
    "solidsphere = ParametricRegion((r*sin(phi)*cos(theta),r*sin(phi)*sin(theta), r*cos(phi)),\n",
    "                            (phi, 0, pi), (theta, 0, 2*pi), (r, 0, 3))\n",
    "volume = vector_integrate(1, solidsphere)\n",
    "print('The volume is ≈', sp.N(volume, 4))\n",
    "volume"
   ]
  },
  {
   "cell_type": "markdown",
   "id": "dfbef182",
   "metadata": {},
   "source": [
    "**Problem.** Find the mass of a cylinder centered on the z-axis which has height *h*, radius *a*, and density $\\rho = x^2 + y^2\\:kg/m^2.$  [SymPy 1.12 doc]\n"
   ]
  },
  {
   "cell_type": "code",
   "execution_count": 6,
   "id": "64da47b3",
   "metadata": {},
   "outputs": [
    {
     "name": "stdout",
     "output_type": "stream",
     "text": [
      "The mass is\n"
     ]
    },
    {
     "data": {
      "text/latex": [
       "$\\displaystyle \\frac{\\pi a^{4} h}{2}$"
      ],
      "text/plain": [
       "pi*a**4*h/2"
      ]
     },
     "execution_count": 6,
     "metadata": {},
     "output_type": "execute_result"
    }
   ],
   "source": [
    "a, h = symbols('a h', positive=True)\n",
    "cylinder = ParametricRegion((r*cos(theta), r*sin(theta), z),\n",
    "                    (theta, 0, 2*pi), (z, 0, h), (r, 0, a))              # Solid cylinder\n",
    "mass = vector_integrate(C.x**2 + C.y**2, cylinder)\n",
    "print('The mass is')\n",
    "mass"
   ]
  },
  {
   "cell_type": "code",
   "execution_count": null,
   "id": "4e08de0b",
   "metadata": {},
   "outputs": [],
   "source": []
  }
 ],
 "metadata": {
  "kernelspec": {
   "display_name": "Python 3 (ipykernel)",
   "language": "python",
   "name": "python3"
  },
  "language_info": {
   "codemirror_mode": {
    "name": "ipython",
    "version": 3
   },
   "file_extension": ".py",
   "mimetype": "text/x-python",
   "name": "python",
   "nbconvert_exporter": "python",
   "pygments_lexer": "ipython3",
   "version": "3.11.5"
  }
 },
 "nbformat": 4,
 "nbformat_minor": 5
}
