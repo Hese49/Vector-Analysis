{
 "cells": [
  {
   "cell_type": "markdown",
   "id": "7eea9524",
   "metadata": {},
   "source": [
    "## 5b.  Double integrals\n"
   ]
  },
  {
   "cell_type": "code",
   "execution_count": 1,
   "id": "876e854e",
   "metadata": {},
   "outputs": [],
   "source": [
    "import numpy as np\n",
    "import sympy as sp\n",
    "from sympy.vector import *\n",
    "import matplotlib.pyplot as plt\n",
    "from scipy.integrate import quad\n",
    "from scipy.integrate import quad_vec\n",
    "\n",
    "#from sympy import sin, cos, exp, pi, symbols\n",
    "from sympy.vector import CoordSys3D, ParametricRegion, ImplicitRegion, vector_integrate\n",
    "from sympy.abc import r, x, y, z, theta, phi\n",
    "x, y, z, u1, u2, u3, v1, v2, v3, t = sp.symbols('x y z u_1 u_2 u_3 v_1 v_2 v_3 t')\n",
    "\n",
    "C = CoordSys3D('C')"
   ]
  },
  {
   "cell_type": "markdown",
   "id": "1f7c578e",
   "metadata": {},
   "source": [
    "**Problem.** Consider a triangular lamina 𝑅 with vertices (0,0), (0, 5), (5,0) and with density \n",
    " $\\rho(x, y) = xy\\:kg/m^2 $.     Find the total mass.  [SymPy 1.12 doc]"
   ]
  },
  {
   "cell_type": "code",
   "execution_count": 2,
   "id": "ca8b0451",
   "metadata": {},
   "outputs": [
    {
     "name": "stdout",
     "output_type": "stream",
     "text": [
      "The mass is ≈ 26.042 kg\n"
     ]
    },
    {
     "data": {
      "text/latex": [
       "$\\displaystyle \\frac{625}{24}$"
      ],
      "text/plain": [
       "625/24"
      ]
     },
     "execution_count": 2,
     "metadata": {},
     "output_type": "execute_result"
    }
   ],
   "source": [
    "# The area is defined by SymPy's ParametricRegion ((parameters), (x bounds),(y bounds))\n",
    "triangle = ParametricRegion((x, y), (x, 0, 5), (y, 0, 5 - x))\n",
    "mass = vector_integrate(C.x*C.y, triangle)\n",
    "print('The mass is ≈', sp.N(mass, 5), 'kg')\n",
    "mass"
   ]
  },
  {
   "cell_type": "markdown",
   "id": "618e031d",
   "metadata": {},
   "source": [
    "Compute the integral of a vector/scalar field over a a region or a set of parameters."
   ]
  },
  {
   "cell_type": "code",
   "execution_count": 3,
   "id": "c9b4e527",
   "metadata": {},
   "outputs": [
    {
     "data": {
      "text/latex": [
       "$\\displaystyle 12$"
      ],
      "text/plain": [
       "12"
      ]
     },
     "execution_count": 3,
     "metadata": {},
     "output_type": "execute_result"
    }
   ],
   "source": [
    "\n",
    "# ParametricRegion((base scalars in terms of parameters), (bounds))\n",
    "region = ParametricRegion((t, t**2), (t, 1, 5)) # (parameters), (parameter bound)\n",
    "vector_integrate(C.x*C.i, region)"
   ]
  },
  {
   "cell_type": "markdown",
   "id": "8d40b095",
   "metadata": {},
   "source": [
    "Integrals over some objects of geometry module can also be calculated."
   ]
  },
  {
   "cell_type": "code",
   "execution_count": 4,
   "id": "32074fe4",
   "metadata": {},
   "outputs": [
    {
     "data": {
      "text/latex": [
       "$\\displaystyle -8$"
      ],
      "text/plain": [
       "-8"
      ]
     },
     "execution_count": 4,
     "metadata": {},
     "output_type": "execute_result"
    }
   ],
   "source": [
    "from sympy.geometry import Point, Circle, Triangle\n",
    "c = Circle(Point(0, 2), 5)\n",
    "vector_integrate(C.x**2 + C.y**2, c)\n",
    "triangle = Triangle(Point(-2, 3), Point(2, 3), Point(0, 5))\n",
    "vector_integrate(3*C.x**2*C.y*C.i + C.j, triangle)"
   ]
  },
  {
   "cell_type": "code",
   "execution_count": null,
   "id": "dd40ccd0",
   "metadata": {},
   "outputs": [],
   "source": []
  }
 ],
 "metadata": {
  "kernelspec": {
   "display_name": "Python 3 (ipykernel)",
   "language": "python",
   "name": "python3"
  },
  "language_info": {
   "codemirror_mode": {
    "name": "ipython",
    "version": 3
   },
   "file_extension": ".py",
   "mimetype": "text/x-python",
   "name": "python",
   "nbconvert_exporter": "python",
   "pygments_lexer": "ipython3",
   "version": "3.11.5"
  }
 },
 "nbformat": 4,
 "nbformat_minor": 5
}
