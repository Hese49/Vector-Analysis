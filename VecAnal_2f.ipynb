{
 "cells": [
  {
   "cell_type": "markdown",
   "id": "55149735",
   "metadata": {},
   "source": [
    "### 2f. Unit tangent vector, unit normal vector, curvature, (Matrix representation)"
   ]
  },
  {
   "cell_type": "markdown",
   "id": "810e5ee6",
   "metadata": {},
   "source": [
    "If $ds = \\sqrt{dx^2 + dy^2 + dz^2}$ is the arclength element $ds/dt = \\sqrt{(dx/dt)^2 + (dy/dt)^2 + (dz/dt)^2 } = |d\\vec{r}/dt| = |\\vec{v}|$ then the other quantities of importance are\n",
    "\n",
    "  * Unit Tangent vector: $\\vec{T} = \\frac{d\\vec{r}}{dt}\\frac{1}{|d\\vec{r}/dt|} = \\vec{v}/|\\vec{v}|$\n",
    "  \n",
    "  * Curvature:  $ \\kappa = |\\frac{d\\vec{T}}{dt}|\\frac{1}{|\\vec{v}|} $\n",
    "  \n",
    "  \n",
    "  * Unit normal vector to curve:   $ \\vec{N} = \\frac{d\\vec{T}/dt}{|d\\vec{T}/dt|} $\n",
    "  \n",
    "  **Problem**. Find all these for the curve $ \\vec{r}(t) = \\left<a\\cos(t)e^t, b\\sin(t), ct\\right> $, where $ a, b, c $ are parameters and t is time variable. [Youtube Mr.P Solver: 2nd Year Calculus, But in PYTHON]"
   ]
  },
  {
   "cell_type": "code",
   "execution_count": 1,
   "id": "5e6fdc42",
   "metadata": {},
   "outputs": [],
   "source": [
    "import numpy as np\n",
    "import sympy as smp\n",
    "from sympy.vector import *\n",
    "import matplotlib.pyplot as plt"
   ]
  },
  {
   "cell_type": "code",
   "execution_count": 2,
   "id": "3441416a",
   "metadata": {},
   "outputs": [
    {
     "data": {
      "text/latex": [
       "$\\displaystyle \\left[\\begin{matrix}a e^{t} \\cos{\\left(t \\right)}\\\\b \\sin{\\left(t \\right)}\\\\c t\\end{matrix}\\right]$"
      ],
      "text/plain": [
       "Matrix([\n",
       "[a*exp(t)*cos(t)],\n",
       "[       b*sin(t)],\n",
       "[            c*t]])"
      ]
     },
     "execution_count": 2,
     "metadata": {},
     "output_type": "execute_result"
    }
   ],
   "source": [
    "t, a, b, c = smp.symbols('t a b c', pos=True, real=True)\n",
    "\n",
    "r = smp.Matrix([a*smp.cos(t)*smp.exp(t), b*smp.sin(t), c*t])           # Define the path\n",
    "r\n",
    " \n"
   ]
  },
  {
   "cell_type": "markdown",
   "id": "6930c43b",
   "metadata": {},
   "source": [
    "Define the velocity vector  $\\vec{v}$   and speed $|\\vec{v}|$."
   ]
  },
  {
   "cell_type": "code",
   "execution_count": 3,
   "id": "ed861439",
   "metadata": {},
   "outputs": [],
   "source": [
    "v = smp.diff(r, t)\n",
    "v_norm = v.norm()    \n"
   ]
  },
  {
   "cell_type": "markdown",
   "id": "154e6be3",
   "metadata": {},
   "source": [
    "Get $\\vec{T},  \\kappa$ and   $\\vec{N}$."
   ]
  },
  {
   "cell_type": "code",
   "execution_count": 4,
   "id": "df9a2031",
   "metadata": {},
   "outputs": [],
   "source": [
    "T = v/v_norm\n",
    "kappa = smp.diff(T, t).norm()/v_norm\n",
    "N = smp.diff(T,t)/smp.diff(T,t).norm()"
   ]
  },
  {
   "cell_type": "markdown",
   "id": "1d68d07e",
   "metadata": {},
   "source": [
    "Can evaluate these quantities or make plots"
   ]
  },
  {
   "cell_type": "code",
   "execution_count": 5,
   "id": "b608eb60",
   "metadata": {},
   "outputs": [
    {
     "data": {
      "text/latex": [
       "$\\displaystyle \\left[\\begin{matrix}-0.984293156774139\\\\-0.0557646995029986\\\\0.167503074052208\\end{matrix}\\right]$"
      ],
      "text/plain": [
       "Matrix([\n",
       "[ -0.984293156774139],\n",
       "[-0.0557646995029986],\n",
       "[  0.167503074052208]])"
      ]
     },
     "execution_count": 5,
     "metadata": {},
     "output_type": "execute_result"
    }
   ],
   "source": [
    "T_2 = T.subs([(t,2),(a,3),(b,4),(c,5)]).evalf()\n",
    "T_2"
   ]
  },
  {
   "cell_type": "code",
   "execution_count": 6,
   "id": "608b4332",
   "metadata": {},
   "outputs": [
    {
     "data": {
      "text/latex": [
       "$\\displaystyle 0.00775458595406284$"
      ],
      "text/plain": [
       "0.00775458595406284"
      ]
     },
     "execution_count": 6,
     "metadata": {},
     "output_type": "execute_result"
    }
   ],
   "source": [
    "kappa.subs([(t,2),(a,3),(b,4),(c,5)]).evalf()"
   ]
  },
  {
   "cell_type": "code",
   "execution_count": 7,
   "id": "1ea120c4",
   "metadata": {},
   "outputs": [
    {
     "data": {
      "text/latex": [
       "$\\displaystyle \\left[\\begin{matrix}-0.152946073876551\\\\-0.204518432770271\\\\-0.966840063890063\\end{matrix}\\right]$"
      ],
      "text/plain": [
       "Matrix([\n",
       "[-0.152946073876551],\n",
       "[-0.204518432770271],\n",
       "[-0.966840063890063]])"
      ]
     },
     "execution_count": 7,
     "metadata": {},
     "output_type": "execute_result"
    }
   ],
   "source": [
    "N_2 = N.subs([(t,2),(a,3),(b,4),(c,5)]).evalf()\n",
    "N_2"
   ]
  },
  {
   "cell_type": "code",
   "execution_count": 8,
   "id": "bd0be9b2",
   "metadata": {},
   "outputs": [
    {
     "name": "stdout",
     "output_type": "stream",
     "text": [
      "1.00000000000000\n",
      "0\n"
     ]
    }
   ],
   "source": [
    "print(N_2.dot(N_2))  # Unity check\n",
    "print(T_2.dot(N_2))  # perpendicularity check"
   ]
  },
  {
   "cell_type": "markdown",
   "id": "8f0fa907",
   "metadata": {},
   "source": [
    "Can also make continuous plots"
   ]
  },
  {
   "cell_type": "code",
   "execution_count": 9,
   "id": "6cf93fa7",
   "metadata": {},
   "outputs": [],
   "source": [
    "kappa_num = smp.lambdify([t,a,b,c], kappa)"
   ]
  },
  {
   "cell_type": "code",
   "execution_count": 10,
   "id": "237d9f8f",
   "metadata": {},
   "outputs": [
    {
     "data": {
      "image/png": "[encoded data removed]",
      "text/plain": [
       "<Figure size 640x480 with 1 Axes>"
      ]
     },
     "metadata": {},
     "output_type": "display_data"
    }
   ],
   "source": [
    "tt = np.linspace(0, 2, 100)\n",
    "kk = kappa_num(tt, 1, 2, 3)\n",
    "plt.plot(tt, kk)\n",
    "plt.xlabel('$t$', fontsize=20)\n",
    "plt.ylabel('$\\kappa(t)$', fontsize=20)\n",
    "plt.show()"
   ]
  },
  {
   "cell_type": "code",
   "execution_count": null,
   "id": "6923d3dc",
   "metadata": {},
   "outputs": [],
   "source": []
  }
 ],
 "metadata": {
  "kernelspec": {
   "display_name": "Python 3 (ipykernel)",
   "language": "python",
   "name": "python3"
  },
  "language_info": {
   "codemirror_mode": {
    "name": "ipython",
    "version": 3
   },
   "file_extension": ".py",
   "mimetype": "text/x-python",
   "name": "python",
   "nbconvert_exporter": "python",
   "pygments_lexer": "ipython3",
   "version": "3.11.5"
  }
 },
 "nbformat": 4,
 "nbformat_minor": 5
}
