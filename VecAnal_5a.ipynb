{
 "cells": [
  {
   "cell_type": "markdown",
   "metadata": {},
   "source": [
    "## 5a. Single integrals\n",
    " "
   ]
  },
  {
   "cell_type": "code",
   "execution_count": 1,
   "metadata": {},
   "outputs": [],
   "source": [
    "import numpy as np\n",
    "import sympy as sp\n",
    "from sympy.vector import *\n",
    "from sympy.vector import CoordSys3D\n",
    "C = CoordSys3D('C')\n",
    "x, y, z, u, c1, c2, c3, t, s = sp.symbols('x y z u c1 c2, c3 t s')\n",
    "from scipy.integrate import quad\n",
    "from scipy.integrate import quad_vec\n",
    "\n",
    "#import matplotlib.pyplot as plt\n",
    "# = *C.i + *C.j + *C.k"
   ]
  },
  {
   "cell_type": "markdown",
   "metadata": {},
   "source": [
    "**Problem 1.** If $\\vec{r(t)}  =  (t-t^2)\\vec{i} + 2t^3\\vec{j} - 3\\vec{k}$, find &nbsp; (a) &nbsp; $\\int \\vec{r(t)}\\,dt$ &nbsp; (b) &nbsp; $ \\int_{1}^{2} \\vec{r(t)})\\,dt$ &nbsp; &nbsp; [Shc84/1]"
   ]
  },
  {
   "cell_type": "code",
   "execution_count": 2,
   "metadata": {},
   "outputs": [
    {
     "data": {
      "text/latex": [
       "$\\displaystyle \\left[\\begin{matrix}- t^{2} + t\\\\2 t^{3}\\\\-3\\end{matrix}\\right]$"
      ],
      "text/plain": [
       "Matrix([\n",
       "[-t**2 + t],\n",
       "[   2*t**3],\n",
       "[       -3]])"
      ]
     },
     "execution_count": 2,
     "metadata": {},
     "output_type": "execute_result"
    }
   ],
   "source": [
    "r = sp.Matrix([t-t**2, 2*t**3, -3 ])                                        # Position vector of a curve\n",
    "r"
   ]
  },
  {
   "cell_type": "code",
   "execution_count": 3,
   "metadata": {},
   "outputs": [
    {
     "data": {
      "text/latex": [
       "$\\displaystyle \\left[\\begin{matrix}c_{1} - \\frac{t^{3}}{3} + \\frac{t^{2}}{2}\\\\c_{2} + \\frac{t^{4}}{2}\\\\c_{3} - 3 t\\end{matrix}\\right]$"
      ],
      "text/plain": [
       "Matrix([\n",
       "[c1 - t**3/3 + t**2/2],\n",
       "[         c2 + t**4/2],\n",
       "[            c3 - 3*t]])"
      ]
     },
     "execution_count": 3,
     "metadata": {},
     "output_type": "execute_result"
    }
   ],
   "source": [
    "# a) Indefinite integral \n",
    "R = sp.integrate(r, t)\n",
    "C0 = sp.Matrix([c1, c2, c3 ])                                              # Constant of integration (must be a vector)\n",
    "R = R + C0 \n",
    "R"
   ]
  },
  {
   "cell_type": "code",
   "execution_count": 4,
   "metadata": {},
   "outputs": [
    {
     "data": {
      "text/latex": [
       "$\\displaystyle \\left[\\begin{matrix}- \\frac{5}{6}\\\\\\frac{15}{2}\\\\-3\\end{matrix}\\right]$"
      ],
      "text/plain": [
       "Matrix([\n",
       "[-5/6],\n",
       "[15/2],\n",
       "[  -3]])"
      ]
     },
     "execution_count": 4,
     "metadata": {},
     "output_type": "execute_result"
    }
   ],
   "source": [
    "# b) Definite Integral with limits \n",
    "sp.integrate(r, (t, 1, 2))                                                 # Each component is integrated independently\n"
   ]
  },
  {
   "cell_type": "markdown",
   "metadata": {},
   "source": [
    "**The same integrations performed in vector notation.**"
   ]
  },
  {
   "cell_type": "code",
   "execution_count": 5,
   "metadata": {},
   "outputs": [
    {
     "data": {
      "text/latex": [
       "$\\displaystyle \\left(- t^{2} + t\\right)\\mathbf{\\hat{i}_{C}} + \\left(2 t^{3}\\right)\\mathbf{\\hat{j}_{C}} + \\left(-3\\right)\\mathbf{\\hat{k}_{C}}$"
      ],
      "text/plain": [
       "(-t**2 + t)*C.i + 2*t**3*C.j + (-3)*C.k"
      ]
     },
     "execution_count": 5,
     "metadata": {},
     "output_type": "execute_result"
    }
   ],
   "source": [
    "r1 = (t-t**2)*C.i +  2*t**3*C.j - 3*C.k                                    # Position vector of a curve\n",
    "r1"
   ]
  },
  {
   "cell_type": "code",
   "execution_count": 6,
   "metadata": {},
   "outputs": [
    {
     "data": {
      "text/latex": [
       "$\\displaystyle \\left[\\begin{matrix}- \\frac{t^{3}}{3} + \\frac{t^{2}}{2}\\\\\\frac{t^{4}}{2}\\\\- 3 t\\end{matrix}\\right]$"
      ],
      "text/plain": [
       "Matrix([\n",
       "[-t**3/3 + t**2/2],\n",
       "[          t**4/2],\n",
       "[            -3*t]])"
      ]
     },
     "execution_count": 6,
     "metadata": {},
     "output_type": "execute_result"
    }
   ],
   "source": [
    "# a) Indefinite integral \n",
    "R1 = sp.integrate(r, t).doit()                      \n",
    "R1"
   ]
  },
  {
   "cell_type": "code",
   "execution_count": 7,
   "metadata": {},
   "outputs": [
    {
     "data": {
      "text/latex": [
       "$\\displaystyle \\left(- \\frac{5}{6}\\right)\\mathbf{\\hat{i}_{C}} + \\left(\\frac{15}{2}\\right)\\mathbf{\\hat{j}_{C}} + \\left(-3\\right)\\mathbf{\\hat{k}_{C}}$"
      ],
      "text/plain": [
       "(-5/6)*C.i + 15/2*C.j + (-3)*C.k"
      ]
     },
     "execution_count": 7,
     "metadata": {},
     "output_type": "execute_result"
    }
   ],
   "source": [
    "# b)Definite integral \n",
    "sp.integrate(r1, (t, 1, 2)).doit()"
   ]
  },
  {
   "cell_type": "markdown",
   "metadata": {},
   "source": [
    "================================================================================================\n",
    "\n",
    "**Problem 2.**  Symbolical and numerical integration [Video Mr.P Solver]\n",
    "\n",
    "This one can be **symbolically integrated**: $r(t) =$ &nbsp;  $<e^tcos(t),  t^4,  1/(1+t^2)>$"
   ]
  },
  {
   "cell_type": "code",
   "execution_count": 8,
   "metadata": {},
   "outputs": [
    {
     "data": {
      "text/latex": [
       "$\\displaystyle \\left[\\begin{matrix}e^{t} \\cos{\\left(t \\right)}\\\\t^{4}\\\\\\frac{1}{t^{2} + 1}\\end{matrix}\\right]$"
      ],
      "text/plain": [
       "Matrix([\n",
       "[exp(t)*cos(t)],\n",
       "[         t**4],\n",
       "[ 1/(t**2 + 1)]])"
      ]
     },
     "execution_count": 8,
     "metadata": {},
     "output_type": "execute_result"
    }
   ],
   "source": [
    "r1 = sp.Matrix([sp.exp(t)*sp.cos(t), t**4, 1/(t**2 +1)])\n",
    "r1"
   ]
  },
  {
   "cell_type": "code",
   "execution_count": 9,
   "metadata": {},
   "outputs": [
    {
     "data": {
      "text/latex": [
       "$\\displaystyle \\left[\\begin{matrix}\\frac{e^{t} \\sin{\\left(t \\right)}}{2} + \\frac{e^{t} \\cos{\\left(t \\right)}}{2}\\\\\\frac{t^{5}}{5}\\\\\\operatorname{atan}{\\left(t \\right)}\\end{matrix}\\right]$"
      ],
      "text/plain": [
       "Matrix([\n",
       "[exp(t)*sin(t)/2 + exp(t)*cos(t)/2],\n",
       "[                           t**5/5],\n",
       "[                          atan(t)]])"
      ]
     },
     "execution_count": 9,
     "metadata": {},
     "output_type": "execute_result"
    }
   ],
   "source": [
    "R1 = sp.integrate(r1, t)\n",
    "R1"
   ]
  },
  {
   "cell_type": "markdown",
   "metadata": {},
   "source": [
    "A function that does not integrate symbolically must be **integrated numerically**, like this one:"
   ]
  },
  {
   "cell_type": "code",
   "execution_count": 10,
   "metadata": {},
   "outputs": [
    {
     "data": {
      "text/latex": [
       "$\\displaystyle \\left[\\begin{matrix}e^{t^{2}} \\cos^{3}{\\left(t \\right)}\\\\e^{- t^{4}}\\\\\\frac{1}{t^{2} + 3}\\end{matrix}\\right]$"
      ],
      "text/plain": [
       "Matrix([\n",
       "[exp(t**2)*cos(t)**3],\n",
       "[         exp(-t**4)],\n",
       "[       1/(t**2 + 3)]])"
      ]
     },
     "execution_count": 10,
     "metadata": {},
     "output_type": "execute_result"
    }
   ],
   "source": [
    "r2 = sp.Matrix([sp.exp(t**2)*sp.cos(t)**3, sp.exp(-t**4), 1/(3+t**2)])\n",
    "r2"
   ]
  },
  {
   "cell_type": "code",
   "execution_count": 11,
   "metadata": {},
   "outputs": [
    {
     "data": {
      "text/plain": [
       "array([[-7.86223546e+03],\n",
       "       [ 6.63967720e-36],\n",
       "       [ 8.33333333e-02]])"
      ]
     },
     "execution_count": 11,
     "metadata": {},
     "output_type": "execute_result"
    }
   ],
   "source": [
    "# A numerical lambda function is first created from the function r2.\n",
    "r2_num = sp.lambdify([t], r2)                                   # ([variables list], function that needs to lambdify)\n",
    "r2_num(3)                                                       # It works like a normal function"
   ]
  },
  {
   "cell_type": "code",
   "execution_count": 12,
   "metadata": {},
   "outputs": [
    {
     "data": {
      "text/plain": [
       "array([[-4.83559254e+05],\n",
       "       [ 9.06402477e-01],\n",
       "       [ 6.70972506e-01]])"
      ]
     },
     "execution_count": 12,
     "metadata": {},
     "output_type": "execute_result"
    }
   ],
   "source": [
    "# A special Scipy integral 'quad_vec()' is used for numerical vector integration.\n",
    "# The numerical lambda function of r2 is used as the function to be integrated.\n",
    "R2 = quad_vec(r2_num, 0, 4)[0]                                  # ( [0] is for that the integral error is not printed ) \n",
    "R2                                    "
   ]
  },
  {
   "cell_type": "markdown",
   "metadata": {},
   "source": [
    "================================================================================================\n",
    "\n",
    "**Problem 3.** The acceleration of a particle at any time t≧0 is given by $$\\vec{a} = \\frac{d\\vec{v}}{dt} = 12cos2t\\vec{i} -8sin2t\\vec{j} + 16t\\vec{k}.$$ \n",
    "If the velocity $\\vec{v}$ and displacement $\\vec{r}$ are zero at t=0, find $\\vec{v}$ and $\\vec{r}$ at any time.  [Shc84/2]\n",
    "\n",
    "**Solution.** &nbsp; $\\vec{v(t)} = \\int \\vec{a}\\,dt$, &nbsp; $\\vec{v(0)} =  \\vec{0}$  &nbsp;   &nbsp; and then &nbsp; $\\vec{r(t)} = \\int\\vec{v})\\,dt$,  &nbsp;  $\\vec{r(0)} =  \\vec{0}.$"
   ]
  },
  {
   "cell_type": "markdown",
   "metadata": {},
   "source": [
    "\n",
    "We solve this problem with SymPy matrix.\n"
   ]
  },
  {
   "cell_type": "code",
   "execution_count": 13,
   "metadata": {},
   "outputs": [
    {
     "data": {
      "text/latex": [
       "$\\displaystyle \\left[\\begin{matrix}12 \\cos{\\left(2 t \\right)}\\\\- 8 \\sin{\\left(2 t \\right)}\\\\16 t\\end{matrix}\\right]$"
      ],
      "text/plain": [
       "Matrix([\n",
       "[12*cos(2*t)],\n",
       "[-8*sin(2*t)],\n",
       "[       16*t]])"
      ]
     },
     "execution_count": 13,
     "metadata": {},
     "output_type": "execute_result"
    }
   ],
   "source": [
    "a = sp.Matrix([12*sp.cos(2*t), -8*sp.sin(2*t), 16*t])          # Define the acceleration function\n",
    "a"
   ]
  },
  {
   "cell_type": "code",
   "execution_count": 14,
   "metadata": {},
   "outputs": [
    {
     "data": {
      "text/latex": [
       "$\\displaystyle \\left[\\begin{matrix}6 \\sin{\\left(2 t \\right)}\\\\4 \\cos{\\left(2 t \\right)}\\\\8 t^{2}\\end{matrix}\\right]$"
      ],
      "text/plain": [
       "Matrix([\n",
       "[6*sin(2*t)],\n",
       "[4*cos(2*t)],\n",
       "[    8*t**2]])"
      ]
     },
     "execution_count": 14,
     "metadata": {},
     "output_type": "execute_result"
    }
   ],
   "source": [
    "v = sp.integrate(a, t)                                         # Velocity is obtained by integrating the acceleration\n",
    "v"
   ]
  },
  {
   "cell_type": "code",
   "execution_count": 15,
   "metadata": {},
   "outputs": [
    {
     "data": {
      "text/latex": [
       "$\\displaystyle \\left[\\begin{matrix}0\\\\4.0\\\\0\\end{matrix}\\right]$"
      ],
      "text/plain": [
       "Matrix([\n",
       "[  0],\n",
       "[4.0],\n",
       "[  0]])"
      ]
     },
     "execution_count": 15,
     "metadata": {},
     "output_type": "execute_result"
    }
   ],
   "source": [
    "v0 = v.evalf(subs={t: 0})                                      # Velocity at time t=0\n",
    "# OR v0 = v.subs([(t,0)]).evalf()\n",
    "v0"
   ]
  },
  {
   "cell_type": "code",
   "execution_count": 16,
   "metadata": {},
   "outputs": [
    {
     "data": {
      "text/latex": [
       "$\\displaystyle \\left[\\begin{matrix}c_{1}\\\\c_{2}\\\\c_{3}\\end{matrix}\\right]$"
      ],
      "text/plain": [
       "Matrix([\n",
       "[c1],\n",
       "[c2],\n",
       "[c3]])"
      ]
     },
     "execution_count": 16,
     "metadata": {},
     "output_type": "execute_result"
    }
   ],
   "source": [
    "c1, c2, c3, t = sp.symbols('c1 c2, c3 t')\n",
    "\n",
    "C1 = sp.Matrix([c1, c2, c3])                                   # Integration constant (vector)\n",
    "C1"
   ]
  },
  {
   "cell_type": "code",
   "execution_count": 17,
   "metadata": {},
   "outputs": [
    {
     "data": {
      "text/latex": [
       "$\\displaystyle \\left[\\begin{matrix}c_{1}\\\\c_{2} + 4.0\\\\c_{3}\\end{matrix}\\right]$"
      ],
      "text/plain": [
       "Matrix([\n",
       "[      c1],\n",
       "[c2 + 4.0],\n",
       "[      c3]])"
      ]
     },
     "execution_count": 17,
     "metadata": {},
     "output_type": "execute_result"
    }
   ],
   "source": [
    "v0 = v0 + C1                                     # Velocity at time t=0, adding the integration constant C1 = (c1, c2, c3)\n",
    "v0"
   ]
  },
  {
   "cell_type": "code",
   "execution_count": 18,
   "metadata": {},
   "outputs": [
    {
     "data": {
      "text/plain": [
       "{c1: 0.0, c2: -4.00000000000000, c3: 0.0}"
      ]
     },
     "execution_count": 18,
     "metadata": {},
     "output_type": "execute_result"
    }
   ],
   "source": [
    "# The integration constant C1 must be set such that the initial condition\n",
    "# v(0)= (0,0,0) is fulfilled.\n",
    "sol = sp.solve(v0)                              # Solve integration constant C1 from the initial condition v(0) = (0,0,0)\n",
    "sol                                             # Solution as a dictionary"
   ]
  },
  {
   "cell_type": "code",
   "execution_count": 19,
   "metadata": {},
   "outputs": [
    {
     "data": {
      "text/latex": [
       "$\\displaystyle \\left[\\begin{matrix}0\\\\-4.0\\\\0\\end{matrix}\\right]$"
      ],
      "text/plain": [
       "Matrix([\n",
       "[   0],\n",
       "[-4.0],\n",
       "[   0]])"
      ]
     },
     "execution_count": 19,
     "metadata": {},
     "output_type": "execute_result"
    }
   ],
   "source": [
    "C1 = sp.Matrix(list(sol.values()))              # Matrix of the values of the solution dictionary\n",
    "C1                                              # Integration constant for the velocity v"
   ]
  },
  {
   "cell_type": "code",
   "execution_count": 20,
   "metadata": {},
   "outputs": [
    {
     "data": {
      "text/latex": [
       "$\\displaystyle \\left[\\begin{matrix}0\\\\0\\\\0\\end{matrix}\\right]$"
      ],
      "text/plain": [
       "Matrix([\n",
       "[0],\n",
       "[0],\n",
       "[0]])"
      ]
     },
     "execution_count": 20,
     "metadata": {},
     "output_type": "execute_result"
    }
   ],
   "source": [
    "v = v + C1                                      # Adding the resolved integration constant C1 = (0, -4, 0)\n",
    "\n",
    "# Check for the initial condition v(0)=(0,0,0)\n",
    "from functools import partial\n",
    "round4 = partial(round, ndigits=4)\n",
    "v.evalf(subs= {t: 0}).applyfunc(round4)         # 'applyfunc(round4)' rounds a very small number to zero\n",
    "#v.evalf(subs= {t: 0}) \n"
   ]
  },
  {
   "cell_type": "code",
   "execution_count": 21,
   "metadata": {},
   "outputs": [
    {
     "name": "stdout",
     "output_type": "stream",
     "text": [
      "The velocity vector function v(t) satisfying the initial condition  v(0)=(0,0,0)  is\n"
     ]
    },
    {
     "data": {
      "text/latex": [
       "$\\displaystyle \\left[\\begin{matrix}6 \\sin{\\left(2 t \\right)}\\\\4 \\cos{\\left(2 t \\right)} - 4.0\\\\8 t^{2}\\end{matrix}\\right]$"
      ],
      "text/plain": [
       "Matrix([\n",
       "[      6*sin(2*t)],\n",
       "[4*cos(2*t) - 4.0],\n",
       "[          8*t**2]])"
      ]
     },
     "execution_count": 21,
     "metadata": {},
     "output_type": "execute_result"
    }
   ],
   "source": [
    "print('The velocity vector function v(t) satisfying the initial condition  v(0)=(0,0,0)  is')\n",
    "v"
   ]
  },
  {
   "cell_type": "code",
   "execution_count": 22,
   "metadata": {},
   "outputs": [
    {
     "data": {
      "text/latex": [
       "$\\displaystyle \\left[\\begin{matrix}- 3 \\cos{\\left(2 t \\right)}\\\\- 4.0 t + 2 \\sin{\\left(2 t \\right)}\\\\\\frac{8 t^{3}}{3}\\end{matrix}\\right]$"
      ],
      "text/plain": [
       "Matrix([\n",
       "[        -3*cos(2*t)],\n",
       "[-4.0*t + 2*sin(2*t)],\n",
       "[           8*t**3/3]])"
      ]
     },
     "execution_count": 22,
     "metadata": {},
     "output_type": "execute_result"
    }
   ],
   "source": [
    "# To get the vector function r(t) for the position, we must integrate the velocity v(t)\n",
    "r = sp.integrate(v)\n",
    "r"
   ]
  },
  {
   "cell_type": "code",
   "execution_count": 23,
   "metadata": {},
   "outputs": [
    {
     "data": {
      "text/latex": [
       "$\\displaystyle \\left[\\begin{matrix}-3.0\\\\0\\\\0\\end{matrix}\\right]$"
      ],
      "text/plain": [
       "Matrix([\n",
       "[-3.0],\n",
       "[   0],\n",
       "[   0]])"
      ]
     },
     "execution_count": 23,
     "metadata": {},
     "output_type": "execute_result"
    }
   ],
   "source": [
    "r0 = r.evalf(subs={t: 0})                         # Velocity at time t=0\n",
    "# OR r0 = r.subs([(t,0)]).evalf()\n",
    "r0"
   ]
  },
  {
   "cell_type": "code",
   "execution_count": 24,
   "metadata": {},
   "outputs": [
    {
     "data": {
      "text/latex": [
       "$\\displaystyle \\left[\\begin{matrix}c_{1}\\\\c_{2}\\\\c_{3}\\end{matrix}\\right]$"
      ],
      "text/plain": [
       "Matrix([\n",
       "[c1],\n",
       "[c2],\n",
       "[c3]])"
      ]
     },
     "execution_count": 24,
     "metadata": {},
     "output_type": "execute_result"
    }
   ],
   "source": [
    "c1, c2, c3, t = sp.symbols('c1 c2, c3 t')\n",
    "\n",
    "C2 = sp.Matrix([c1, c2, c3])                     # Integration constant (vector) for r \n",
    "C2"
   ]
  },
  {
   "cell_type": "code",
   "execution_count": 25,
   "metadata": {},
   "outputs": [
    {
     "data": {
      "text/latex": [
       "$\\displaystyle \\left[\\begin{matrix}c_{1} - 3.0\\\\c_{2}\\\\c_{3}\\end{matrix}\\right]$"
      ],
      "text/plain": [
       "Matrix([\n",
       "[c1 - 3.0],\n",
       "[      c2],\n",
       "[      c3]])"
      ]
     },
     "execution_count": 25,
     "metadata": {},
     "output_type": "execute_result"
    }
   ],
   "source": [
    "r0 = r0 + C2                                    # Position at time t=0, adding the integration constant C2 = (c1, c2, c3)\n",
    "r0                  "
   ]
  },
  {
   "cell_type": "code",
   "execution_count": 26,
   "metadata": {},
   "outputs": [
    {
     "data": {
      "text/plain": [
       "{c1: 3.00000000000000, c2: 0.0, c3: 0.0}"
      ]
     },
     "execution_count": 26,
     "metadata": {},
     "output_type": "execute_result"
    }
   ],
   "source": [
    "# The integration constant C2 must be set such that the initial condition\n",
    "# r(0)= (0,0,0) is fulfilled.\n",
    "sol = sp.solve(r0)                              # Solve integration constant C2 from the initial condition r(0) = 0\n",
    "sol                                             # Solution as a dictionary"
   ]
  },
  {
   "cell_type": "code",
   "execution_count": 27,
   "metadata": {},
   "outputs": [
    {
     "data": {
      "text/latex": [
       "$\\displaystyle \\left[\\begin{matrix}3.0\\\\0\\\\0\\end{matrix}\\right]$"
      ],
      "text/plain": [
       "Matrix([\n",
       "[3.0],\n",
       "[  0],\n",
       "[  0]])"
      ]
     },
     "execution_count": 27,
     "metadata": {},
     "output_type": "execute_result"
    }
   ],
   "source": [
    "C2 = sp.Matrix(list(sol.values()))              # Matrix of the values of the solutions dictionary\n",
    "C2                                              # Integration constant for r"
   ]
  },
  {
   "cell_type": "code",
   "execution_count": 28,
   "metadata": {},
   "outputs": [
    {
     "data": {
      "text/latex": [
       "$\\displaystyle \\left[\\begin{matrix}5.0 \\cdot 10^{-125}\\\\0\\\\0\\end{matrix}\\right]$"
      ],
      "text/plain": [
       "Matrix([\n",
       "[0.e-125],\n",
       "[      0],\n",
       "[      0]])"
      ]
     },
     "execution_count": 28,
     "metadata": {},
     "output_type": "execute_result"
    }
   ],
   "source": [
    "r = r + C2                                      # Adding the resolved integration constant vector C2 = (3, 0, 0)\n",
    "\n",
    "# Check for the initial condition r(0)=(0,0,0)\n",
    "r.evalf(subs= {t: 0})\n",
    "# r.evalf(subs= {t: 0}).applyfunc(round4)       # 'applyfunc(round4)' rounds a very small number to zero\n",
    "\n"
   ]
  },
  {
   "cell_type": "code",
   "execution_count": 29,
   "metadata": {},
   "outputs": [
    {
     "name": "stdout",
     "output_type": "stream",
     "text": [
      "The position vector r(t) satisfying the initial conditions v(0)=(0,0,0) and t(0)=(0,0,0) is\n"
     ]
    },
    {
     "data": {
      "text/latex": [
       "$\\displaystyle \\left[\\begin{matrix}3.0 - 3 \\cos{\\left(2 t \\right)}\\\\- 4.0 t + 2 \\sin{\\left(2 t \\right)}\\\\\\frac{8 t^{3}}{3}\\end{matrix}\\right]$"
      ],
      "text/plain": [
       "Matrix([\n",
       "[   3.0 - 3*cos(2*t)],\n",
       "[-4.0*t + 2*sin(2*t)],\n",
       "[           8*t**3/3]])"
      ]
     },
     "execution_count": 29,
     "metadata": {},
     "output_type": "execute_result"
    }
   ],
   "source": [
    "print('The position vector r(t) satisfying the initial conditions v(0)=(0,0,0) and t(0)=(0,0,0) is')\n",
    "r"
   ]
  },
  {
   "cell_type": "markdown",
   "metadata": {},
   "source": [
    "================================================================================================\n",
    "\n",
    "**Problem 4.** Find the **arclength** of the curve $r(t) = \\left< 0, t, t^2 \\right> $ (parabola) from t=0 to t=1. \n",
    "[Video Mr.P Solver]\n",
    "\n",
    "**Solution.**  $$ L = \\int_a^b ds = \\int_a^b \\sqrt{dx^2 + dy^2 + dz^2} = \\int_a^b \\sqrt{(dx/dt)^2 + (dy/dt)^2 + (dz/dt)^2 }dt  = \\int_a^b |dr/dt|dt         $$"
   ]
  },
  {
   "cell_type": "code",
   "execution_count": 30,
   "metadata": {},
   "outputs": [
    {
     "data": {
      "text/latex": [
       "$\\displaystyle \\left[\\begin{matrix}0\\\\t\\\\t^{2}\\end{matrix}\\right]$"
      ],
      "text/plain": [
       "Matrix([\n",
       "[   0],\n",
       "[   t],\n",
       "[t**2]])"
      ]
     },
     "execution_count": 30,
     "metadata": {},
     "output_type": "execute_result"
    }
   ],
   "source": [
    "r = sp.Matrix([0, t, t**2])                # A curve r(t)\n",
    "r"
   ]
  },
  {
   "cell_type": "code",
   "execution_count": 31,
   "metadata": {},
   "outputs": [
    {
     "data": {
      "text/latex": [
       "$\\displaystyle \\sqrt{4 \\left|{t}\\right|^{2} + 1}$"
      ],
      "text/plain": [
       "sqrt(4*Abs(t)**2 + 1)"
      ]
     },
     "execution_count": 31,
     "metadata": {},
     "output_type": "execute_result"
    }
   ],
   "source": [
    "drdt_norm = sp.diff(r,t).norm()                                   # |dr/dt|\n",
    "drdt_norm\n"
   ]
  },
  {
   "cell_type": "code",
   "execution_count": 32,
   "metadata": {},
   "outputs": [
    {
     "name": "stdout",
     "output_type": "stream",
     "text": [
      "The arc length is\n"
     ]
    },
    {
     "data": {
      "text/latex": [
       "$\\displaystyle \\frac{\\operatorname{asinh}{\\left(2 \\right)}}{4} + \\frac{\\sqrt{5}}{2}$"
      ],
      "text/plain": [
       "asinh(2)/4 + sqrt(5)/2"
      ]
     },
     "execution_count": 32,
     "metadata": {},
     "output_type": "execute_result"
    }
   ],
   "source": [
    "L = sp.integrate(drdt_norm, (t,0,1))                              # Integrating |dr/dt| from 0 to 1 -> arc length\n",
    "print('The arc length is')\n",
    "L"
   ]
  },
  {
   "cell_type": "code",
   "execution_count": 33,
   "metadata": {},
   "outputs": [
    {
     "name": "stdout",
     "output_type": "stream",
     "text": [
      "Approximation of arc length   L ≈ 1.48\n"
     ]
    }
   ],
   "source": [
    "print('Approximation of arc length   L ≈', sp.N(L, 3))                          "
   ]
  },
  {
   "cell_type": "markdown",
   "metadata": {},
   "source": [
    "============================================================================================\n",
    "\n",
    "**Problem 5.** Find **arc length** of the curve $ r(t) = \\left< e^t, \\sin(t), t^4 \\right>$ from t=0 to t=1.\n",
    "\n",
    "**Solution.**  &nbsp;  &nbsp; $ L = \\int_a^b |dr/dt|dt. $ &nbsp; This function cannot be integrated symbolically, instead we convert the integrand to a **numeric lambda function** and perform the integration using SciPy's 'quad()' function."
   ]
  },
  {
   "cell_type": "code",
   "execution_count": 34,
   "metadata": {},
   "outputs": [
    {
     "name": "stdout",
     "output_type": "stream",
     "text": [
      "The arc length L =   2.317\n"
     ]
    }
   ],
   "source": [
    "r = sp.Matrix([sp.exp(t), sp.sin(t), t**4])\n",
    "r_num = sp.lambdify([t], sp.diff(r,t).norm())                    # Numeric function for |dr/dt|\n",
    "L = quad(r_num, 0, 1)[0]                                         # SciPy integration, [0]-> no error printing\n",
    "print('The arc length L =  ', round(L,3))"
   ]
  },
  {
   "cell_type": "markdown",
   "metadata": {},
   "source": [
    "============================================================================================\n",
    "\n",
    "**Problem 6.** Determine the lenght of the curve $ \\vec{r}(t) = $ &nbsp; $ \\langle 2t, 3sin(2t), 3cos(2t)\\rangle$ on the interval $ 0 ≤ t ≤ 2 \\pi$. [Lamar]\n",
    "\n",
    "**Solution.** &nbsp; &nbsp; $ L = \\int_a^b |dr/dt|dt  $"
   ]
  },
  {
   "cell_type": "code",
   "execution_count": 35,
   "metadata": {},
   "outputs": [
    {
     "name": "stdout",
     "output_type": "stream",
     "text": [
      "The arc length is\n"
     ]
    },
    {
     "data": {
      "text/latex": [
       "$\\displaystyle 4 \\sqrt{10} \\pi$"
      ],
      "text/plain": [
       "4*sqrt(10)*pi"
      ]
     },
     "execution_count": 35,
     "metadata": {},
     "output_type": "execute_result"
    }
   ],
   "source": [
    "r = sp.Matrix([2*t, 3*sp.sin(2*t), 3*sp.cos(2*t) ])              # Position vector of a curve\n",
    "drdt_norm = sp.diff(r,t).norm()                                  # |dr/dt|\n",
    "L = sp.integrate(drdt_norm, (t,0,2*sp.pi))                       # Integrating |dr/dt| from 0 to 2π \n",
    "print('The arc length is')\n",
    "L"
   ]
  },
  {
   "cell_type": "markdown",
   "metadata": {},
   "source": [
    "============================================================================================\n",
    "\n",
    "**Problem 7a.** Determine the arc lenght function for the curve $ \\vec{r}(t) = $ &nbsp; $ \\langle 2t, 3sin(2t), 3cos(2t)\\rangle$ . [Lamar]\n",
    "\n",
    "**Solution.** &nbsp; &nbsp; $ s(t) = \\int_0^t |dr/dt|du  $"
   ]
  },
  {
   "cell_type": "code",
   "execution_count": 36,
   "metadata": {},
   "outputs": [
    {
     "data": {
      "text/latex": [
       "$\\displaystyle 2 \\sqrt{10} t$"
      ],
      "text/plain": [
       "2*sqrt(10)*t"
      ]
     },
     "execution_count": 36,
     "metadata": {},
     "output_type": "execute_result"
    }
   ],
   "source": [
    "r = sp.Matrix([2*t, 3*sp.sin(2*t), 3*sp.cos(2*t) ])              # Position vector of a curve\n",
    "drdt = sp.diff(r,t)                                              # dr/dt\n",
    "drdt_norm_sqr = drdt.dot(drdt).simplify()                        # |dr/dt|^2\n",
    "drdt_norm = sp.sqrt(drdt_norm_sqr)                               # |dr/dt|\n",
    "s1 = sp.integrate(drdt_norm, (u, 0,t))                           # Integrating |dr/dt| from 0 to t with respect to u\n",
    "#print('The lenght function s(t) =', s1, '=')\n",
    "s1\n"
   ]
  },
  {
   "cell_type": "markdown",
   "metadata": {},
   "source": [
    "The idea here is that now we can solve *t(s)* and plug it into the original vectorfunction *r(t)* to get the position function  as a function of distance, *r(s)*. With this **reparameterization** from *t* to *s* we can then tell where we are (= the coordinates) on the curve after we've traveled a distance of *s* along the curve.\n"
   ]
  },
  {
   "cell_type": "code",
   "execution_count": 37,
   "metadata": {},
   "outputs": [
    {
     "data": {
      "text/latex": [
       "$\\displaystyle \\frac{\\sqrt{10} s}{20}$"
      ],
      "text/plain": [
       "sqrt(10)*s/20"
      ]
     },
     "execution_count": 37,
     "metadata": {},
     "output_type": "execute_result"
    }
   ],
   "source": [
    "# Solving parameter t as a function of distance s\n",
    "from sympy import symbols, solve\n",
    "s, t = symbols('s t')\n",
    "eq = s - s1                                                      # The right side of the equation is automatically zero\n",
    "eq\n",
    "sol = sp.solve(eq, t)                                            # Gives a list of solutions\n",
    "sol[0]                                                           # t as a function of s\n"
   ]
  },
  {
   "cell_type": "code",
   "execution_count": 38,
   "metadata": {},
   "outputs": [
    {
     "name": "stdout",
     "output_type": "stream",
     "text": [
      "The position when a distance of s have been traveled is\n"
     ]
    },
    {
     "data": {
      "text/latex": [
       "$\\displaystyle \\left[\\begin{matrix}\\frac{\\sqrt{10} s}{10}\\\\3 \\sin{\\left(\\frac{\\sqrt{10} s}{10} \\right)}\\\\3 \\cos{\\left(\\frac{\\sqrt{10} s}{10} \\right)}\\end{matrix}\\right]$"
      ],
      "text/plain": [
       "Matrix([\n",
       "[       sqrt(10)*s/10],\n",
       "[3*sin(sqrt(10)*s/10)],\n",
       "[3*cos(sqrt(10)*s/10)]])"
      ]
     },
     "execution_count": 38,
     "metadata": {},
     "output_type": "execute_result"
    }
   ],
   "source": [
    "# Reparameterization of position vector r(t) to  r(t(s)) ( from time param. to distance param.)\n",
    "r = r.subs(t, sol[0]) \n",
    "print('The position when a distance of s have been traveled is')\n",
    "r"
   ]
  },
  {
   "cell_type": "markdown",
   "metadata": {},
   "source": [
    "=====================================\n",
    "\n",
    "**Problem 7b.** Where on the curve $ \\vec{r}(t) = $ &nbsp; $ \\langle 2t, 3sin(2t), 3cos(2t)\\rangle$ are we after travelling for a distance  $ \\pi \\frac{\\sqrt{10}}{3} ?  $ "
   ]
  },
  {
   "cell_type": "code",
   "execution_count": 39,
   "metadata": {},
   "outputs": [
    {
     "name": "stdout",
     "output_type": "stream",
     "text": [
      "We are in the position\n"
     ]
    },
    {
     "data": {
      "text/latex": [
       "$\\displaystyle \\left[\\begin{matrix}\\frac{\\pi}{3}\\\\\\frac{3 \\sqrt{3}}{2}\\\\\\frac{3}{2}\\end{matrix}\\right]$"
      ],
      "text/plain": [
       "Matrix([\n",
       "[       pi/3],\n",
       "[3*sqrt(3)/2],\n",
       "[        3/2]])"
      ]
     },
     "execution_count": 39,
     "metadata": {},
     "output_type": "execute_result"
    }
   ],
   "source": [
    "r1 = r.subs(s, sp.pi*sp.sqrt(10)/3)\n",
    "print('We are in the position')\n",
    "r1"
   ]
  },
  {
   "cell_type": "markdown",
   "metadata": {},
   "source": [
    "================================================================================================\n",
    "\n",
    "**Problem 8.** Determine the lenght of  $ \\vec{r}(t) =  (3-4t)\\vec{i}  + 6t\\vec{j} - (9 + 2t)\\vec{k} $ from $ -6 ≤ t ≤ 8 $.\n",
    "\n",
    "**Solution.** &nbsp; $L = \\int_{-6}^{8} {||\\vec{r'(t)}||}dt $ "
   ]
  },
  {
   "cell_type": "code",
   "execution_count": 40,
   "metadata": {},
   "outputs": [
    {
     "data": {
      "text/latex": [
       "$\\displaystyle 2 \\sqrt{14}$"
      ],
      "text/plain": [
       "2*sqrt(14)"
      ]
     },
     "execution_count": 40,
     "metadata": {},
     "output_type": "execute_result"
    }
   ],
   "source": [
    "# This time we use vector notation\n",
    "from sympy.vector import CoordSys3D\n",
    "C = CoordSys3D('C')\n",
    "x, y, z, t = sp.symbols('x y z t')\n",
    "\n",
    "r = (3-4*t)*C.i +  6*t*C.j - (9 + 2*t)*C.k\n",
    "drdt = sp.diff(r,t)                                                      #  r'(t)\n",
    "drdt_norm = sp.sqrt(drdt.dot(drdt))                                      # |r'(t)|\n",
    "drdt_norm"
   ]
  },
  {
   "cell_type": "code",
   "execution_count": 41,
   "metadata": {},
   "outputs": [
    {
     "name": "stdout",
     "output_type": "stream",
     "text": [
      "The lenght of the curve ≈ 104.77\n"
     ]
    },
    {
     "data": {
      "text/latex": [
       "$\\displaystyle 28 \\sqrt{14}$"
      ],
      "text/plain": [
       "28*sqrt(14)"
      ]
     },
     "execution_count": 41,
     "metadata": {},
     "output_type": "execute_result"
    }
   ],
   "source": [
    "# Integration\n",
    "L = sp.integrate(drdt_norm, (t, -6, 8))                                  # Integrating |r'(t)| from -6 to 8 \n",
    "print('The lenght of the curve ≈', sp.N(L,5))                            # Converting to five digits decimal approximation\n",
    "L                                                                        # The exact value"
   ]
  },
  {
   "cell_type": "markdown",
   "metadata": {},
   "source": [
    "==============================================================================================\n",
    "\n",
    "**Priblem 9.** a) Calculate the perimeter of a circle  a circle with a radius of 4. [SymPy 1.12 doc] \n",
    "\n",
    "b) Calculate the perimeter of a triangle whose vertices are (1, 2), (3, 5), (1,6)."
   ]
  },
  {
   "cell_type": "code",
   "execution_count": 42,
   "metadata": {},
   "outputs": [],
   "source": [
    "from sympy import sin, cos, exp, pi, symbols\n",
    "from sympy.vector import CoordSys3D, ParametricRegion, ImplicitRegion, vector_integrate\n",
    "from sympy.abc import r, x, y, z, theta, phi\n",
    "C = CoordSys3D('C')"
   ]
  },
  {
   "cell_type": "code",
   "execution_count": 43,
   "metadata": {},
   "outputs": [
    {
     "name": "stdout",
     "output_type": "stream",
     "text": [
      "The perimeter is ≈ 25.133\n"
     ]
    },
    {
     "data": {
      "text/latex": [
       "$\\displaystyle 8 \\pi$"
      ],
      "text/plain": [
       "8*pi"
      ]
     },
     "execution_count": 43,
     "metadata": {},
     "output_type": "execute_result"
    }
   ],
   "source": [
    "# a1) Solution using SymPy's method 'ParametricRegion'\n",
    "param_circle = ParametricRegion((4*cos(theta), 4*sin(theta)), (theta, 0, 2*pi))\n",
    "perim1 = vector_integrate(1, param_circle)\n",
    "print('The perimeter is ≈', sp.N(perim1, 5))\n",
    "perim1\n"
   ]
  },
  {
   "cell_type": "code",
   "execution_count": 44,
   "metadata": {},
   "outputs": [
    {
     "name": "stdout",
     "output_type": "stream",
     "text": [
      "The perimeter is ≈ 25.133\n"
     ]
    },
    {
     "data": {
      "text/latex": [
       "$\\displaystyle 8 \\pi$"
      ],
      "text/plain": [
       "8*pi"
      ]
     },
     "execution_count": 44,
     "metadata": {},
     "output_type": "execute_result"
    }
   ],
   "source": [
    "# a2) Solution using 'ImplicitRegion'\n",
    "implicit_circle = ImplicitRegion((x, y), x**2 + y**2 - 16)\n",
    "perim2 = vector_integrate(1, implicit_circle)\n",
    "print('The perimeter is ≈', sp.N(perim2, 5))\n",
    "perim2\n"
   ]
  },
  {
   "cell_type": "code",
   "execution_count": 45,
   "metadata": {},
   "outputs": [
    {
     "name": "stdout",
     "output_type": "stream",
     "text": [
      "The perimeter is ≈ 9.842\n"
     ]
    },
    {
     "data": {
      "text/latex": [
       "$\\displaystyle \\sqrt{5} + \\sqrt{13} + 4$"
      ],
      "text/plain": [
       "sqrt(5) + sqrt(13) + 4"
      ]
     },
     "execution_count": 45,
     "metadata": {},
     "output_type": "execute_result"
    }
   ],
   "source": [
    "# b) Solution using SymPy's 'Polygon' method\n",
    "from sympy.geometry import Point, Polygon\n",
    "triangle = Polygon(Point(1, 2), (3, 5), (1,6))\n",
    "perim3 = vector_integrate(1, triangle)\n",
    "print('The perimeter is ≈', sp.N(perim3, 4))\n",
    "perim3"
   ]
  },
  {
   "cell_type": "markdown",
   "metadata": {},
   "source": [
    "============================================================================================\n",
    "\n",
    "**Examples: Integral of fields with respect to base scalars.**  SymPy 1.12 doc  (sympy.vector.integrals.vector_integrate)"
   ]
  },
  {
   "cell_type": "code",
   "execution_count": 46,
   "metadata": {},
   "outputs": [
    {
     "data": {
      "text/latex": [
       "$\\displaystyle 240$"
      ],
      "text/plain": [
       "240"
      ]
     },
     "execution_count": 46,
     "metadata": {},
     "output_type": "execute_result"
    }
   ],
   "source": [
    "vector_integrate(12*C.y**3, (C.y, 1, 3))                                  # Definite integral"
   ]
  },
  {
   "cell_type": "code",
   "execution_count": 47,
   "metadata": {},
   "outputs": [
    {
     "name": "stdout",
     "output_type": "stream",
     "text": [
      "C.x**3*C.z/3 + c1\n"
     ]
    },
    {
     "data": {
      "text/latex": [
       "$\\displaystyle \\frac{\\mathbf{{x}_{C}}^{3} \\mathbf{{z}_{C}}}{3} + c_{1}$"
      ],
      "text/plain": [
       "C.x**3*C.z/3 + c1"
      ]
     },
     "execution_count": 47,
     "metadata": {},
     "output_type": "execute_result"
    }
   ],
   "source": [
    "R = vector_integrate(C.x**2*C.z, C.x)  + c1                               # c1 is added integration constant (scalar)\n",
    "print(R)\n",
    "R"
   ]
  },
  {
   "cell_type": "code",
   "execution_count": 48,
   "metadata": {},
   "outputs": [
    {
     "name": "stdout",
     "output_type": "stream",
     "text": [
      "(C.x**2/2 + c1)*C.i + c2*C.j + (-C.x*C.y + c3)*C.k\n"
     ]
    },
    {
     "data": {
      "text/latex": [
       "$\\displaystyle \\left(\\frac{\\mathbf{{x}_{C}}^{2}}{2} + c_{1}\\right)\\mathbf{\\hat{i}_{C}} + \\left(c_{2}\\right)\\mathbf{\\hat{j}_{C}} + \\left(- \\mathbf{{x}_{C}} \\mathbf{{y}_{C}} + c_{3}\\right)\\mathbf{\\hat{k}_{C}}$"
      ],
      "text/plain": [
       "(C.x**2/2 + c1)*C.i + c2*C.j + (-C.x*C.y + c3)*C.k"
      ]
     },
     "execution_count": 48,
     "metadata": {},
     "output_type": "execute_result"
    }
   ],
   "source": [
    "R = vector_integrate(C.x*C.i - C.y*C.k, C.x).doit()       \n",
    "C0 = c1*C.i + c2*C.j + c3*C.k                                             # Integration constant (vector)\n",
    "R = R + C0\n",
    "\n",
    "print(R)\n",
    "R"
   ]
  },
  {
   "cell_type": "code",
   "execution_count": null,
   "metadata": {},
   "outputs": [],
   "source": []
  }
 ],
 "metadata": {
  "kernelspec": {
   "display_name": "Python 3 (ipykernel)",
   "language": "python",
   "name": "python3"
  },
  "language_info": {
   "codemirror_mode": {
    "name": "ipython",
    "version": 3
   },
   "file_extension": ".py",
   "mimetype": "text/x-python",
   "name": "python",
   "nbconvert_exporter": "python",
   "pygments_lexer": "ipython3",
   "version": "3.11.5"
  }
 },
 "nbformat": 4,
 "nbformat_minor": 2
}
