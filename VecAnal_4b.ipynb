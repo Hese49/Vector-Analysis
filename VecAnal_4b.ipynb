{
 "cells": [
  {
   "cell_type": "markdown",
   "metadata": {},
   "source": [
    "### 4b. Divergence\n",
    "1. Calculate divergence\n",
    "2. Solenoidal vectorfield\n",
    "3. Laplace's operator\n"
   ]
  },
  {
   "cell_type": "code",
   "execution_count": 1,
   "metadata": {},
   "outputs": [],
   "source": [
    "# INIT\n",
    "from sympy import *\n",
    "x, y, z = symbols('x y z ')\n",
    "from sympy.vector import CoordSys3D, Del\n",
    "C = CoordSys3D('C')\n",
    "\n",
    "#r = x*C.i + y*C.j + z*C.k\n",
    "#  = *C.i + *C.j + *C.k\n",
    "# Notice the notation:   f = 3*C.x*C.y**2    variables in CoordSys3D 'C'  (f = 3xy^2)"
   ]
  },
  {
   "cell_type": "markdown",
   "metadata": {},
   "source": [
    "**1. Calculate divergence**\n",
    "\n",
    "**Problem.** If $\\vec{A} = x^2z\\vec{i}  - 2y^3z^2\\vec{j} + xy^2z\\vec{k}$, find the divergence  $  \\nabla\\cdot \\vec{A} $  at the point (1,-1,1). &nbsp; [Sch64/15]"
   ]
  },
  {
   "cell_type": "code",
   "execution_count": 2,
   "metadata": {},
   "outputs": [
    {
     "name": "stdout",
     "output_type": "stream",
     "text": [
      "The divergence is -3.000\n"
     ]
    }
   ],
   "source": [
    "# INIT\n",
    "from sympy.vector import divergence                                # If 'divergence()' operator is used for divergence\n",
    "#from sympy.vector import  Del                                     # If Del() operator is used for divergence\n",
    "C = CoordSys3D('C')                     \n",
    "# r = x*C.i + y*C.j + z*C.k               \n",
    " \n",
    "# INPUT\n",
    "A = C.x**2*C.z*C.i - 2*C.y**3*C.z**2*C.j + C.x*C.y**2*C.z*C.k      # Obs. use of C. !!!\n",
    "P = [1, -1, 1]\n",
    "\n",
    "# CALCULATE\n",
    "divA = divergence(A)      \n",
    "# divA = Del().dot(A).doit()                                       # An alternative command (need to import 'Del')\n",
    "divA_P = divA.evalf(subs={C.x:P[0], C.y:P[1], C.z:P[2]})           # The divergence at point P \n",
    "\n",
    "# OUTPUT\n",
    "print('The divergence is', N(divA_P, 4))  "
   ]
  },
  {
   "cell_type": "markdown",
   "metadata": {},
   "source": [
    "============================================================================================\n",
    "\n",
    "**2. Solenoidal vectorfield**\n",
    "\n",
    "**Problem.** Determine the constant $a$ so that the vector field  &nbsp; $\\vec{V} = (x+3y)\\vec{i}  + (y -2z)\\vec{j} + (x+az)\\vec{k}$  &nbsp; is solenoidal. &nbsp; [Sch67/22]\n",
    "\n",
    "**Solution.** Vectorfield $\\vec{V}$ is called *solenoidal* if its divergence is zero\n",
    "<span style=\"color:blue\">  $$ \\nabla\\cdot \\vec{V}  =  0.$$   </span> \n",
    "This equation is called <span style=\"color:blue\">  *continuity equation* </span> for an incompressible fluid. It means that the field has no sources or sinks.\n"
   ]
  },
  {
   "cell_type": "code",
   "execution_count": 3,
   "metadata": {},
   "outputs": [
    {
     "name": "stdout",
     "output_type": "stream",
     "text": [
      "Vectorfield V is solenoidal when a = -2\n",
      "Solenoidal field V1: (C.x + 3*C.y)*C.i + (C.y - 2*C.z)*C.j + (C.x - 2*C.z)*C.k\n",
      "Check div V1 = 0: True\n"
     ]
    }
   ],
   "source": [
    "# Solenoidal vectorfield \n",
    "\n",
    "# INIT\n",
    "from sympy.vector import  Del \n",
    "x, y, z, a = symbols('x y z a')                                    # Include parameter 'a' in the symbols!\n",
    "\n",
    "# INPUT\n",
    "V = (C.x+3*C.y)*C.i  + (C.y -2*C.z)*C.j + (C.x+a*C.z)*C.k          # Vectorfield  (Obs. use of C. !!)\n",
    "\n",
    "# CALCULATE\n",
    "div_V = Del().dot(V).doit()                                        # Divergence of vectorfield V\n",
    "eq = Eq(div_V, 0)                                                  # Continuity equation:  divergence V = 0\n",
    "a1 = solve(eq, a)                                                  # Solve a from equation eq  (--> list of solutions)\n",
    "V1 = V.subs(a, -2)\n",
    "div_V1 = Del().dot(V1).doit() \n",
    "\n",
    "# OUTPUT\n",
    "print('Vectorfield V is solenoidal when a =', a1[0])\n",
    "print('Solenoidal field V1:', V1)\n",
    "print('Check div V1 = 0:',  div_V1 == 0 )\n"
   ]
  },
  {
   "cell_type": "markdown",
   "metadata": {},
   "source": [
    "============================================================================================\n",
    "\n",
    "**3. Laplace's operator**  &nbsp; $\\nabla^2$. \n",
    "\n",
    "**Problem.** Given &nbsp; $\\phi = 2x^3y^2z^4.$ &nbsp; Find $\\nabla^2\\phi$.\n",
    "\n",
    "**Solution.** &nbsp;  $\\nabla^2\\phi = \\nabla \\cdot \\nabla \\phi $"
   ]
  },
  {
   "cell_type": "code",
   "execution_count": 4,
   "metadata": {},
   "outputs": [
    {
     "name": "stdout",
     "output_type": "stream",
     "text": [
      "Div gradient ϕ is\n"
     ]
    },
    {
     "data": {
      "text/latex": [
       "$\\displaystyle 24 \\mathbf{{x}_{C}}^{3} \\mathbf{{y}_{C}}^{2} \\mathbf{{z}_{C}}^{2} + 4 \\mathbf{{x}_{C}}^{3} \\mathbf{{z}_{C}}^{4} + 12 \\mathbf{{x}_{C}} \\mathbf{{y}_{C}}^{2} \\mathbf{{z}_{C}}^{4}$"
      ],
      "text/plain": [
       "24*C.x**3*C.y**2*C.z**2 + 4*C.x**3*C.z**4 + 12*C.x*C.y**2*C.z**4"
      ]
     },
     "execution_count": 4,
     "metadata": {},
     "output_type": "execute_result"
    }
   ],
   "source": [
    "# Lapalace's operator\n",
    "\n",
    "# INPUT\n",
    "ϕ = 2*C.x**3*C.y**2*C.z**4                                          # Scalar field  (Obs. use of C. !)\n",
    "\n",
    "# CALCULATE\n",
    "grd_ϕ = Del().gradient(ϕ).doit()                                    # Gradient ϕ\n",
    "lpc_ϕ = Del().dot(grd_ϕ).doit()                                     # Laplace ϕ = div(Gradient ϕ)\n",
    "\n",
    "# OUTPUT\n",
    "print('Div gradient ϕ is' )\n",
    "lpc_ϕ"
   ]
  },
  {
   "cell_type": "code",
   "execution_count": null,
   "metadata": {},
   "outputs": [],
   "source": []
  }
 ],
 "metadata": {
  "kernelspec": {
   "display_name": "Python 3 (ipykernel)",
   "language": "python",
   "name": "python3"
  },
  "language_info": {
   "codemirror_mode": {
    "name": "ipython",
    "version": 3
   },
   "file_extension": ".py",
   "mimetype": "text/x-python",
   "name": "python",
   "nbconvert_exporter": "python",
   "pygments_lexer": "ipython3",
   "version": "3.11.5"
  }
 },
 "nbformat": 4,
 "nbformat_minor": 2
}
